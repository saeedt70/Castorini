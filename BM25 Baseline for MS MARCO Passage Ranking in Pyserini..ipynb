{
  "nbformat": 4,
  "nbformat_minor": 0,
  "metadata": {
    "colab": {
      "provenance": []
    },
    "kernelspec": {
      "name": "python3",
      "display_name": "Python 3"
    },
    "language_info": {
      "name": "python"
    }
  },
  "cells": [
    {
      "cell_type": "markdown",
      "source": [
        "# Install dependencies & # Clone the Pyserini repository"
      ],
      "metadata": {
        "id": "QqK8G8hIKGRv"
      }
    },
    {
      "cell_type": "code",
      "execution_count": null,
      "metadata": {
        "colab": {
          "base_uri": "https://localhost:8080/"
        },
        "id": "jueaS18Km2Nm",
        "outputId": "b39910b2-7892-49cf-e850-de8dd2548316"
      },
      "outputs": [
        {
          "output_type": "stream",
          "name": "stdout",
          "text": [
            "Reading package lists... Done\n",
            "Building dependency tree... Done\n",
            "Reading state information... Done\n",
            "The following additional packages will be installed:\n",
            "  libaopalliance-java libapache-pom-java libatinject-jsr330-api-java libcdi-api-java\n",
            "  libcommons-cli-java libcommons-io-java libcommons-lang3-java libcommons-parent-java\n",
            "  libgeronimo-annotation-1.3-spec-java libgeronimo-interceptor-3.0-spec-java libguava-java\n",
            "  libguice-java libhawtjni-runtime-java libjansi-java libjansi-native-java libjsr305-java\n",
            "  libmaven-parent-java libmaven-resolver-java libmaven-shared-utils-java libmaven3-core-java\n",
            "  libplexus-cipher-java libplexus-classworlds-java libplexus-component-annotations-java\n",
            "  libplexus-interpolation-java libplexus-sec-dispatcher-java libplexus-utils2-java\n",
            "  libsisu-inject-java libsisu-plexus-java libslf4j-java libwagon-file-java\n",
            "  libwagon-http-shaded-java libwagon-provider-api-java\n",
            "Suggested packages:\n",
            "  libaopalliance-java-doc libatinject-jsr330-api-java-doc libel-api-java libcommons-io-java-doc\n",
            "  libcommons-lang3-java-doc libasm-java libcglib-java libjsr305-java-doc\n",
            "  libmaven-shared-utils-java-doc liblogback-java libplexus-classworlds-java-doc\n",
            "  libplexus-sec-dispatcher-java-doc libplexus-utils2-java-doc junit4 testng libcommons-logging-java\n",
            "  liblog4j1.2-java\n",
            "The following NEW packages will be installed:\n",
            "  libaopalliance-java libapache-pom-java libatinject-jsr330-api-java libcdi-api-java\n",
            "  libcommons-cli-java libcommons-io-java libcommons-lang3-java libcommons-parent-java\n",
            "  libgeronimo-annotation-1.3-spec-java libgeronimo-interceptor-3.0-spec-java libguava-java\n",
            "  libguice-java libhawtjni-runtime-java libjansi-java libjansi-native-java libjsr305-java\n",
            "  libmaven-parent-java libmaven-resolver-java libmaven-shared-utils-java libmaven3-core-java\n",
            "  libplexus-cipher-java libplexus-classworlds-java libplexus-component-annotations-java\n",
            "  libplexus-interpolation-java libplexus-sec-dispatcher-java libplexus-utils2-java\n",
            "  libsisu-inject-java libsisu-plexus-java libslf4j-java libwagon-file-java\n",
            "  libwagon-http-shaded-java libwagon-provider-api-java maven\n",
            "0 upgraded, 33 newly installed, 0 to remove and 31 not upgraded.\n",
            "Need to get 10.2 MB of archives.\n",
            "After this operation, 13.3 MB of additional disk space will be used.\n",
            "Get:1 http://archive.ubuntu.com/ubuntu jammy/universe amd64 libapache-pom-java all 18-1 [4,720 B]\n",
            "Get:2 http://archive.ubuntu.com/ubuntu jammy/universe amd64 libatinject-jsr330-api-java all 1.0+ds1-5 [5,348 B]\n",
            "Get:3 http://archive.ubuntu.com/ubuntu jammy/universe amd64 libgeronimo-interceptor-3.0-spec-java all 1.0.1-4fakesync [8,616 B]\n",
            "Get:4 http://archive.ubuntu.com/ubuntu jammy/universe amd64 libcdi-api-java all 1.2-3 [54.3 kB]\n",
            "Get:5 http://archive.ubuntu.com/ubuntu jammy/universe amd64 libcommons-cli-java all 1.4-2 [55.8 kB]\n",
            "Get:6 http://archive.ubuntu.com/ubuntu jammy/universe amd64 libcommons-parent-java all 43-1 [10.8 kB]\n",
            "Get:7 http://archive.ubuntu.com/ubuntu jammy/universe amd64 libcommons-io-java all 2.11.0-2 [297 kB]\n",
            "Get:8 http://archive.ubuntu.com/ubuntu jammy/universe amd64 libcommons-lang3-java all 3.11-1 [526 kB]\n",
            "Get:9 http://archive.ubuntu.com/ubuntu jammy/universe amd64 libgeronimo-annotation-1.3-spec-java all 1.3-1 [11.2 kB]\n",
            "Get:10 http://archive.ubuntu.com/ubuntu jammy/universe amd64 libjsr305-java all 0.1~+svn49-11 [27.0 kB]\n",
            "Get:11 http://archive.ubuntu.com/ubuntu jammy/universe amd64 libguava-java all 29.0-6 [2,418 kB]\n",
            "Get:12 http://archive.ubuntu.com/ubuntu jammy/universe amd64 libaopalliance-java all 20070526-6 [9,084 B]\n",
            "Get:13 http://archive.ubuntu.com/ubuntu jammy/universe amd64 libguice-java all 4.2.3-2 [1,434 kB]\n",
            "Get:14 http://archive.ubuntu.com/ubuntu jammy/universe amd64 libhawtjni-runtime-java all 1.17-1 [28.8 kB]\n",
            "Get:15 http://archive.ubuntu.com/ubuntu jammy/universe amd64 libjansi-native-java all 1.8-1 [23.8 kB]\n",
            "Get:16 http://archive.ubuntu.com/ubuntu jammy/universe amd64 libjansi-java all 1.18-1 [56.8 kB]\n",
            "Get:17 http://archive.ubuntu.com/ubuntu jammy/universe amd64 libmaven-parent-java all 31-2 [5,140 B]\n",
            "Get:18 http://archive.ubuntu.com/ubuntu jammy/universe amd64 libplexus-utils2-java all 3.3.0-1 [250 kB]\n",
            "Get:19 http://archive.ubuntu.com/ubuntu jammy/universe amd64 libwagon-provider-api-java all 3.3.4-1 [48.5 kB]\n",
            "Get:20 http://archive.ubuntu.com/ubuntu jammy/universe amd64 libmaven-resolver-java all 1.4.2-3build1 [555 kB]\n",
            "Get:21 http://archive.ubuntu.com/ubuntu jammy/universe amd64 libmaven-shared-utils-java all 3.3.0-1 [149 kB]\n",
            "Get:22 http://archive.ubuntu.com/ubuntu jammy/universe amd64 libplexus-cipher-java all 1.8-2 [15.1 kB]\n",
            "Get:23 http://archive.ubuntu.com/ubuntu jammy/universe amd64 libplexus-classworlds-java all 2.6.0-1 [49.4 kB]\n",
            "Get:24 http://archive.ubuntu.com/ubuntu jammy/universe amd64 libplexus-component-annotations-java all 2.1.0-1 [6,564 B]\n",
            "Get:25 http://archive.ubuntu.com/ubuntu jammy/universe amd64 libplexus-interpolation-java all 1.26-1 [76.8 kB]\n",
            "Get:26 http://archive.ubuntu.com/ubuntu jammy/universe amd64 libplexus-sec-dispatcher-java all 1.4-4 [28.1 kB]\n",
            "Get:27 http://archive.ubuntu.com/ubuntu jammy/universe amd64 libslf4j-java all 1.7.32-1 [141 kB]\n",
            "Get:28 http://archive.ubuntu.com/ubuntu jammy/universe amd64 libsisu-inject-java all 0.3.4-2 [347 kB]\n",
            "Get:29 http://archive.ubuntu.com/ubuntu jammy/universe amd64 libsisu-plexus-java all 0.3.4-3 [181 kB]\n",
            "Get:30 http://archive.ubuntu.com/ubuntu jammy/universe amd64 libmaven3-core-java all 3.6.3-5 [1,535 kB]\n",
            "Get:31 http://archive.ubuntu.com/ubuntu jammy/universe amd64 libwagon-file-java all 3.3.4-1 [7,928 B]\n",
            "Get:32 http://archive.ubuntu.com/ubuntu jammy/universe amd64 libwagon-http-shaded-java all 3.3.4-1 [1,855 kB]\n",
            "Get:33 http://archive.ubuntu.com/ubuntu jammy/universe amd64 maven all 3.6.3-5 [17.8 kB]\n",
            "Fetched 10.2 MB in 1s (17.7 MB/s)\n",
            "Extracting templates from packages: 100%\n",
            "Selecting previously unselected package libapache-pom-java.\n",
            "(Reading database ... 121730 files and directories currently installed.)\n",
            "Preparing to unpack .../00-libapache-pom-java_18-1_all.deb ...\n",
            "Unpacking libapache-pom-java (18-1) ...\n",
            "Selecting previously unselected package libatinject-jsr330-api-java.\n",
            "Preparing to unpack .../01-libatinject-jsr330-api-java_1.0+ds1-5_all.deb ...\n",
            "Unpacking libatinject-jsr330-api-java (1.0+ds1-5) ...\n",
            "Selecting previously unselected package libgeronimo-interceptor-3.0-spec-java.\n",
            "Preparing to unpack .../02-libgeronimo-interceptor-3.0-spec-java_1.0.1-4fakesync_all.deb ...\n",
            "Unpacking libgeronimo-interceptor-3.0-spec-java (1.0.1-4fakesync) ...\n",
            "Selecting previously unselected package libcdi-api-java.\n",
            "Preparing to unpack .../03-libcdi-api-java_1.2-3_all.deb ...\n",
            "Unpacking libcdi-api-java (1.2-3) ...\n",
            "Selecting previously unselected package libcommons-cli-java.\n",
            "Preparing to unpack .../04-libcommons-cli-java_1.4-2_all.deb ...\n",
            "Unpacking libcommons-cli-java (1.4-2) ...\n",
            "Selecting previously unselected package libcommons-parent-java.\n",
            "Preparing to unpack .../05-libcommons-parent-java_43-1_all.deb ...\n",
            "Unpacking libcommons-parent-java (43-1) ...\n",
            "Selecting previously unselected package libcommons-io-java.\n",
            "Preparing to unpack .../06-libcommons-io-java_2.11.0-2_all.deb ...\n",
            "Unpacking libcommons-io-java (2.11.0-2) ...\n",
            "Selecting previously unselected package libcommons-lang3-java.\n",
            "Preparing to unpack .../07-libcommons-lang3-java_3.11-1_all.deb ...\n",
            "Unpacking libcommons-lang3-java (3.11-1) ...\n",
            "Selecting previously unselected package libgeronimo-annotation-1.3-spec-java.\n",
            "Preparing to unpack .../08-libgeronimo-annotation-1.3-spec-java_1.3-1_all.deb ...\n",
            "Unpacking libgeronimo-annotation-1.3-spec-java (1.3-1) ...\n",
            "Selecting previously unselected package libjsr305-java.\n",
            "Preparing to unpack .../09-libjsr305-java_0.1~+svn49-11_all.deb ...\n",
            "Unpacking libjsr305-java (0.1~+svn49-11) ...\n",
            "Selecting previously unselected package libguava-java.\n",
            "Preparing to unpack .../10-libguava-java_29.0-6_all.deb ...\n",
            "Unpacking libguava-java (29.0-6) ...\n",
            "Selecting previously unselected package libaopalliance-java.\n",
            "Preparing to unpack .../11-libaopalliance-java_20070526-6_all.deb ...\n",
            "Unpacking libaopalliance-java (20070526-6) ...\n",
            "Selecting previously unselected package libguice-java.\n",
            "Preparing to unpack .../12-libguice-java_4.2.3-2_all.deb ...\n",
            "Unpacking libguice-java (4.2.3-2) ...\n",
            "Selecting previously unselected package libhawtjni-runtime-java.\n",
            "Preparing to unpack .../13-libhawtjni-runtime-java_1.17-1_all.deb ...\n",
            "Unpacking libhawtjni-runtime-java (1.17-1) ...\n",
            "Selecting previously unselected package libjansi-native-java.\n",
            "Preparing to unpack .../14-libjansi-native-java_1.8-1_all.deb ...\n",
            "Unpacking libjansi-native-java (1.8-1) ...\n",
            "Selecting previously unselected package libjansi-java.\n",
            "Preparing to unpack .../15-libjansi-java_1.18-1_all.deb ...\n",
            "Unpacking libjansi-java (1.18-1) ...\n",
            "Selecting previously unselected package libmaven-parent-java.\n",
            "Preparing to unpack .../16-libmaven-parent-java_31-2_all.deb ...\n",
            "Unpacking libmaven-parent-java (31-2) ...\n",
            "Selecting previously unselected package libplexus-utils2-java.\n",
            "Preparing to unpack .../17-libplexus-utils2-java_3.3.0-1_all.deb ...\n",
            "Unpacking libplexus-utils2-java (3.3.0-1) ...\n",
            "Selecting previously unselected package libwagon-provider-api-java.\n",
            "Preparing to unpack .../18-libwagon-provider-api-java_3.3.4-1_all.deb ...\n",
            "Unpacking libwagon-provider-api-java (3.3.4-1) ...\n",
            "Selecting previously unselected package libmaven-resolver-java.\n",
            "Preparing to unpack .../19-libmaven-resolver-java_1.4.2-3build1_all.deb ...\n",
            "Unpacking libmaven-resolver-java (1.4.2-3build1) ...\n",
            "Selecting previously unselected package libmaven-shared-utils-java.\n",
            "Preparing to unpack .../20-libmaven-shared-utils-java_3.3.0-1_all.deb ...\n",
            "Unpacking libmaven-shared-utils-java (3.3.0-1) ...\n",
            "Selecting previously unselected package libplexus-cipher-java.\n",
            "Preparing to unpack .../21-libplexus-cipher-java_1.8-2_all.deb ...\n",
            "Unpacking libplexus-cipher-java (1.8-2) ...\n",
            "Selecting previously unselected package libplexus-classworlds-java.\n",
            "Preparing to unpack .../22-libplexus-classworlds-java_2.6.0-1_all.deb ...\n",
            "Unpacking libplexus-classworlds-java (2.6.0-1) ...\n",
            "Selecting previously unselected package libplexus-component-annotations-java.\n",
            "Preparing to unpack .../23-libplexus-component-annotations-java_2.1.0-1_all.deb ...\n",
            "Unpacking libplexus-component-annotations-java (2.1.0-1) ...\n",
            "Selecting previously unselected package libplexus-interpolation-java.\n",
            "Preparing to unpack .../24-libplexus-interpolation-java_1.26-1_all.deb ...\n",
            "Unpacking libplexus-interpolation-java (1.26-1) ...\n",
            "Selecting previously unselected package libplexus-sec-dispatcher-java.\n",
            "Preparing to unpack .../25-libplexus-sec-dispatcher-java_1.4-4_all.deb ...\n",
            "Unpacking libplexus-sec-dispatcher-java (1.4-4) ...\n",
            "Selecting previously unselected package libslf4j-java.\n",
            "Preparing to unpack .../26-libslf4j-java_1.7.32-1_all.deb ...\n",
            "Unpacking libslf4j-java (1.7.32-1) ...\n",
            "Selecting previously unselected package libsisu-inject-java.\n",
            "Preparing to unpack .../27-libsisu-inject-java_0.3.4-2_all.deb ...\n",
            "Unpacking libsisu-inject-java (0.3.4-2) ...\n",
            "Selecting previously unselected package libsisu-plexus-java.\n",
            "Preparing to unpack .../28-libsisu-plexus-java_0.3.4-3_all.deb ...\n",
            "Unpacking libsisu-plexus-java (0.3.4-3) ...\n",
            "Selecting previously unselected package libmaven3-core-java.\n",
            "Preparing to unpack .../29-libmaven3-core-java_3.6.3-5_all.deb ...\n",
            "Unpacking libmaven3-core-java (3.6.3-5) ...\n",
            "Selecting previously unselected package libwagon-file-java.\n",
            "Preparing to unpack .../30-libwagon-file-java_3.3.4-1_all.deb ...\n",
            "Unpacking libwagon-file-java (3.3.4-1) ...\n",
            "Selecting previously unselected package libwagon-http-shaded-java.\n",
            "Preparing to unpack .../31-libwagon-http-shaded-java_3.3.4-1_all.deb ...\n",
            "Unpacking libwagon-http-shaded-java (3.3.4-1) ...\n",
            "Selecting previously unselected package maven.\n",
            "Preparing to unpack .../32-maven_3.6.3-5_all.deb ...\n",
            "Unpacking maven (3.6.3-5) ...\n",
            "Setting up libslf4j-java (1.7.32-1) ...\n",
            "Setting up libplexus-utils2-java (3.3.0-1) ...\n",
            "Setting up libplexus-classworlds-java (2.6.0-1) ...\n",
            "Setting up libjsr305-java (0.1~+svn49-11) ...\n",
            "Setting up libaopalliance-java (20070526-6) ...\n",
            "Setting up libcommons-cli-java (1.4-2) ...\n",
            "Setting up libplexus-component-annotations-java (2.1.0-1) ...\n",
            "Setting up libplexus-cipher-java (1.8-2) ...\n",
            "Setting up libgeronimo-annotation-1.3-spec-java (1.3-1) ...\n",
            "Setting up libgeronimo-interceptor-3.0-spec-java (1.0.1-4fakesync) ...\n",
            "Setting up libapache-pom-java (18-1) ...\n",
            "Setting up libatinject-jsr330-api-java (1.0+ds1-5) ...\n",
            "Setting up libplexus-interpolation-java (1.26-1) ...\n",
            "Setting up libplexus-sec-dispatcher-java (1.4-4) ...\n",
            "Setting up libwagon-http-shaded-java (3.3.4-1) ...\n",
            "Setting up libcdi-api-java (1.2-3) ...\n",
            "Setting up libhawtjni-runtime-java (1.17-1) ...\n",
            "Setting up libwagon-provider-api-java (3.3.4-1) ...\n",
            "Setting up libmaven-parent-java (31-2) ...\n",
            "Setting up libcommons-parent-java (43-1) ...\n",
            "Setting up libsisu-inject-java (0.3.4-2) ...\n",
            "Setting up libsisu-plexus-java (0.3.4-3) ...\n",
            "Setting up libmaven-resolver-java (1.4.2-3build1) ...\n",
            "Setting up libguava-java (29.0-6) ...\n",
            "Setting up libcommons-lang3-java (3.11-1) ...\n",
            "Setting up libjansi-native-java (1.8-1) ...\n",
            "Setting up libwagon-file-java (3.3.4-1) ...\n",
            "Setting up libcommons-io-java (2.11.0-2) ...\n",
            "Setting up libguice-java (4.2.3-2) ...\n",
            "Setting up libjansi-java (1.18-1) ...\n",
            "Setting up libmaven-shared-utils-java (3.3.0-1) ...\n",
            "Setting up libmaven3-core-java (3.6.3-5) ...\n",
            "Setting up maven (3.6.3-5) ...\n",
            "update-alternatives: using /usr/share/maven/bin/mvn to provide /usr/bin/mvn (mvn) in auto mode\n",
            "Collecting pyserini\n",
            "  Downloading pyserini-0.24.0-py3-none-any.whl (142.1 MB)\n",
            "\u001b[2K     \u001b[90m━━━━━━━━━━━━━━━━━━━━━━━━━━━━━━━━━━━━━━━━\u001b[0m \u001b[32m142.1/142.1 MB\u001b[0m \u001b[31m3.0 MB/s\u001b[0m eta \u001b[36m0:00:00\u001b[0m\n",
            "\u001b[?25hRequirement already satisfied: Cython>=0.29.21 in /usr/local/lib/python3.10/dist-packages (from pyserini) (3.0.8)\n",
            "Requirement already satisfied: numpy>=1.18.1 in /usr/local/lib/python3.10/dist-packages (from pyserini) (1.23.5)\n",
            "Requirement already satisfied: pandas>=1.4.0 in /usr/local/lib/python3.10/dist-packages (from pyserini) (1.5.3)\n",
            "Collecting pyjnius>=1.4.0 (from pyserini)\n",
            "  Downloading pyjnius-1.6.1-cp310-cp310-manylinux_2_17_x86_64.manylinux2014_x86_64.whl (1.5 MB)\n",
            "\u001b[2K     \u001b[90m━━━━━━━━━━━━━━━━━━━━━━━━━━━━━━━━━━━━━━━━\u001b[0m \u001b[32m1.5/1.5 MB\u001b[0m \u001b[31m60.7 MB/s\u001b[0m eta \u001b[36m0:00:00\u001b[0m\n",
            "\u001b[?25hRequirement already satisfied: scikit-learn>=0.22.1 in /usr/local/lib/python3.10/dist-packages (from pyserini) (1.2.2)\n",
            "Requirement already satisfied: scipy>=1.4.1 in /usr/local/lib/python3.10/dist-packages (from pyserini) (1.11.4)\n",
            "Requirement already satisfied: tqdm in /usr/local/lib/python3.10/dist-packages (from pyserini) (4.66.1)\n",
            "Requirement already satisfied: transformers>=4.6.0 in /usr/local/lib/python3.10/dist-packages (from pyserini) (4.35.2)\n",
            "Requirement already satisfied: sentencepiece>=0.1.95 in /usr/local/lib/python3.10/dist-packages (from pyserini) (0.1.99)\n",
            "Collecting nmslib>=2.1.1 (from pyserini)\n",
            "  Downloading nmslib-2.1.1.tar.gz (188 kB)\n",
            "\u001b[2K     \u001b[90m━━━━━━━━━━━━━━━━━━━━━━━━━━━━━━━━━━━━━━━━\u001b[0m \u001b[32m188.7/188.7 kB\u001b[0m \u001b[31m16.7 MB/s\u001b[0m eta \u001b[36m0:00:00\u001b[0m\n",
            "\u001b[?25h  Preparing metadata (setup.py) ... \u001b[?25l\u001b[?25hdone\n",
            "Collecting onnxruntime>=1.8.1 (from pyserini)\n",
            "  Downloading onnxruntime-1.17.0-cp310-cp310-manylinux_2_27_x86_64.manylinux_2_28_x86_64.whl (6.8 MB)\n",
            "\u001b[2K     \u001b[90m━━━━━━━━━━━━━━━━━━━━━━━━━━━━━━━━━━━━━━━━\u001b[0m \u001b[32m6.8/6.8 MB\u001b[0m \u001b[31m44.7 MB/s\u001b[0m eta \u001b[36m0:00:00\u001b[0m\n",
            "\u001b[?25hRequirement already satisfied: lightgbm>=3.3.2 in /usr/local/lib/python3.10/dist-packages (from pyserini) (4.1.0)\n",
            "Requirement already satisfied: spacy>=3.2.1 in /usr/local/lib/python3.10/dist-packages (from pyserini) (3.6.1)\n",
            "Requirement already satisfied: pyyaml in /usr/local/lib/python3.10/dist-packages (from pyserini) (6.0.1)\n",
            "Collecting openai>=1.0.0 (from pyserini)\n",
            "  Downloading openai-1.10.0-py3-none-any.whl (225 kB)\n",
            "\u001b[2K     \u001b[90m━━━━━━━━━━━━━━━━━━━━━━━━━━━━━━━━━━━━━━━━\u001b[0m \u001b[32m225.1/225.1 kB\u001b[0m \u001b[31m21.6 MB/s\u001b[0m eta \u001b[36m0:00:00\u001b[0m\n",
            "\u001b[?25hCollecting tiktoken>=0.4.0 (from pyserini)\n",
            "  Downloading tiktoken-0.5.2-cp310-cp310-manylinux_2_17_x86_64.manylinux2014_x86_64.whl (2.0 MB)\n",
            "\u001b[2K     \u001b[90m━━━━━━━━━━━━━━━━━━━━━━━━━━━━━━━━━━━━━━━━\u001b[0m \u001b[32m2.0/2.0 MB\u001b[0m \u001b[31m64.7 MB/s\u001b[0m eta \u001b[36m0:00:00\u001b[0m\n",
            "\u001b[?25hCollecting pybind11<2.6.2 (from nmslib>=2.1.1->pyserini)\n",
            "  Using cached pybind11-2.6.1-py2.py3-none-any.whl (188 kB)\n",
            "Requirement already satisfied: psutil in /usr/local/lib/python3.10/dist-packages (from nmslib>=2.1.1->pyserini) (5.9.5)\n",
            "Collecting coloredlogs (from onnxruntime>=1.8.1->pyserini)\n",
            "  Downloading coloredlogs-15.0.1-py2.py3-none-any.whl (46 kB)\n",
            "\u001b[2K     \u001b[90m━━━━━━━━━━━━━━━━━━━━━━━━━━━━━━━━━━━━━━━━\u001b[0m \u001b[32m46.0/46.0 kB\u001b[0m \u001b[31m5.0 MB/s\u001b[0m eta \u001b[36m0:00:00\u001b[0m\n",
            "\u001b[?25hRequirement already satisfied: flatbuffers in /usr/local/lib/python3.10/dist-packages (from onnxruntime>=1.8.1->pyserini) (23.5.26)\n",
            "Requirement already satisfied: packaging in /usr/local/lib/python3.10/dist-packages (from onnxruntime>=1.8.1->pyserini) (23.2)\n",
            "Requirement already satisfied: protobuf in /usr/local/lib/python3.10/dist-packages (from onnxruntime>=1.8.1->pyserini) (3.20.3)\n",
            "Requirement already satisfied: sympy in /usr/local/lib/python3.10/dist-packages (from onnxruntime>=1.8.1->pyserini) (1.12)\n",
            "Requirement already satisfied: anyio<5,>=3.5.0 in /usr/local/lib/python3.10/dist-packages (from openai>=1.0.0->pyserini) (3.7.1)\n",
            "Requirement already satisfied: distro<2,>=1.7.0 in /usr/lib/python3/dist-packages (from openai>=1.0.0->pyserini) (1.7.0)\n",
            "Collecting httpx<1,>=0.23.0 (from openai>=1.0.0->pyserini)\n",
            "  Downloading httpx-0.26.0-py3-none-any.whl (75 kB)\n",
            "\u001b[2K     \u001b[90m━━━━━━━━━━━━━━━━━━━━━━━━━━━━━━━━━━━━━━━━\u001b[0m \u001b[32m75.9/75.9 kB\u001b[0m \u001b[31m7.1 MB/s\u001b[0m eta \u001b[36m0:00:00\u001b[0m\n",
            "\u001b[?25hRequirement already satisfied: pydantic<3,>=1.9.0 in /usr/local/lib/python3.10/dist-packages (from openai>=1.0.0->pyserini) (1.10.14)\n",
            "Requirement already satisfied: sniffio in /usr/local/lib/python3.10/dist-packages (from openai>=1.0.0->pyserini) (1.3.0)\n",
            "Collecting typing-extensions<5,>=4.7 (from openai>=1.0.0->pyserini)\n",
            "  Downloading typing_extensions-4.9.0-py3-none-any.whl (32 kB)\n",
            "Requirement already satisfied: python-dateutil>=2.8.1 in /usr/local/lib/python3.10/dist-packages (from pandas>=1.4.0->pyserini) (2.8.2)\n",
            "Requirement already satisfied: pytz>=2020.1 in /usr/local/lib/python3.10/dist-packages (from pandas>=1.4.0->pyserini) (2023.3.post1)\n",
            "Requirement already satisfied: joblib>=1.1.1 in /usr/local/lib/python3.10/dist-packages (from scikit-learn>=0.22.1->pyserini) (1.3.2)\n",
            "Requirement already satisfied: threadpoolctl>=2.0.0 in /usr/local/lib/python3.10/dist-packages (from scikit-learn>=0.22.1->pyserini) (3.2.0)\n",
            "Requirement already satisfied: spacy-legacy<3.1.0,>=3.0.11 in /usr/local/lib/python3.10/dist-packages (from spacy>=3.2.1->pyserini) (3.0.12)\n",
            "Requirement already satisfied: spacy-loggers<2.0.0,>=1.0.0 in /usr/local/lib/python3.10/dist-packages (from spacy>=3.2.1->pyserini) (1.0.5)\n",
            "Requirement already satisfied: murmurhash<1.1.0,>=0.28.0 in /usr/local/lib/python3.10/dist-packages (from spacy>=3.2.1->pyserini) (1.0.10)\n",
            "Requirement already satisfied: cymem<2.1.0,>=2.0.2 in /usr/local/lib/python3.10/dist-packages (from spacy>=3.2.1->pyserini) (2.0.8)\n",
            "Requirement already satisfied: preshed<3.1.0,>=3.0.2 in /usr/local/lib/python3.10/dist-packages (from spacy>=3.2.1->pyserini) (3.0.9)\n",
            "Requirement already satisfied: thinc<8.2.0,>=8.1.8 in /usr/local/lib/python3.10/dist-packages (from spacy>=3.2.1->pyserini) (8.1.12)\n",
            "Requirement already satisfied: wasabi<1.2.0,>=0.9.1 in /usr/local/lib/python3.10/dist-packages (from spacy>=3.2.1->pyserini) (1.1.2)\n",
            "Requirement already satisfied: srsly<3.0.0,>=2.4.3 in /usr/local/lib/python3.10/dist-packages (from spacy>=3.2.1->pyserini) (2.4.8)\n",
            "Requirement already satisfied: catalogue<2.1.0,>=2.0.6 in /usr/local/lib/python3.10/dist-packages (from spacy>=3.2.1->pyserini) (2.0.10)\n",
            "Requirement already satisfied: typer<0.10.0,>=0.3.0 in /usr/local/lib/python3.10/dist-packages (from spacy>=3.2.1->pyserini) (0.9.0)\n",
            "Requirement already satisfied: pathy>=0.10.0 in /usr/local/lib/python3.10/dist-packages (from spacy>=3.2.1->pyserini) (0.11.0)\n",
            "Requirement already satisfied: smart-open<7.0.0,>=5.2.1 in /usr/local/lib/python3.10/dist-packages (from spacy>=3.2.1->pyserini) (6.4.0)\n",
            "Requirement already satisfied: requests<3.0.0,>=2.13.0 in /usr/local/lib/python3.10/dist-packages (from spacy>=3.2.1->pyserini) (2.31.0)\n",
            "Requirement already satisfied: jinja2 in /usr/local/lib/python3.10/dist-packages (from spacy>=3.2.1->pyserini) (3.1.3)\n",
            "Requirement already satisfied: setuptools in /usr/local/lib/python3.10/dist-packages (from spacy>=3.2.1->pyserini) (67.7.2)\n",
            "Requirement already satisfied: langcodes<4.0.0,>=3.2.0 in /usr/local/lib/python3.10/dist-packages (from spacy>=3.2.1->pyserini) (3.3.0)\n",
            "Requirement already satisfied: regex>=2022.1.18 in /usr/local/lib/python3.10/dist-packages (from tiktoken>=0.4.0->pyserini) (2023.6.3)\n",
            "Requirement already satisfied: filelock in /usr/local/lib/python3.10/dist-packages (from transformers>=4.6.0->pyserini) (3.13.1)\n",
            "Requirement already satisfied: huggingface-hub<1.0,>=0.16.4 in /usr/local/lib/python3.10/dist-packages (from transformers>=4.6.0->pyserini) (0.20.3)\n",
            "Requirement already satisfied: tokenizers<0.19,>=0.14 in /usr/local/lib/python3.10/dist-packages (from transformers>=4.6.0->pyserini) (0.15.1)\n",
            "Requirement already satisfied: safetensors>=0.3.1 in /usr/local/lib/python3.10/dist-packages (from transformers>=4.6.0->pyserini) (0.4.2)\n",
            "Requirement already satisfied: idna>=2.8 in /usr/local/lib/python3.10/dist-packages (from anyio<5,>=3.5.0->openai>=1.0.0->pyserini) (3.6)\n",
            "Requirement already satisfied: exceptiongroup in /usr/local/lib/python3.10/dist-packages (from anyio<5,>=3.5.0->openai>=1.0.0->pyserini) (1.2.0)\n",
            "Requirement already satisfied: certifi in /usr/local/lib/python3.10/dist-packages (from httpx<1,>=0.23.0->openai>=1.0.0->pyserini) (2023.11.17)\n",
            "Collecting httpcore==1.* (from httpx<1,>=0.23.0->openai>=1.0.0->pyserini)\n",
            "  Downloading httpcore-1.0.2-py3-none-any.whl (76 kB)\n",
            "\u001b[2K     \u001b[90m━━━━━━━━━━━━━━━━━━━━━━━━━━━━━━━━━━━━━━━━\u001b[0m \u001b[32m76.9/76.9 kB\u001b[0m \u001b[31m7.1 MB/s\u001b[0m eta \u001b[36m0:00:00\u001b[0m\n",
            "\u001b[?25hCollecting h11<0.15,>=0.13 (from httpcore==1.*->httpx<1,>=0.23.0->openai>=1.0.0->pyserini)\n",
            "  Downloading h11-0.14.0-py3-none-any.whl (58 kB)\n",
            "\u001b[2K     \u001b[90m━━━━━━━━━━━━━━━━━━━━━━━━━━━━━━━━━━━━━━━━\u001b[0m \u001b[32m58.3/58.3 kB\u001b[0m \u001b[31m6.1 MB/s\u001b[0m eta \u001b[36m0:00:00\u001b[0m\n",
            "\u001b[?25hRequirement already satisfied: fsspec>=2023.5.0 in /usr/local/lib/python3.10/dist-packages (from huggingface-hub<1.0,>=0.16.4->transformers>=4.6.0->pyserini) (2023.6.0)\n",
            "Requirement already satisfied: pathlib-abc==0.1.1 in /usr/local/lib/python3.10/dist-packages (from pathy>=0.10.0->spacy>=3.2.1->pyserini) (0.1.1)\n",
            "Requirement already satisfied: six>=1.5 in /usr/local/lib/python3.10/dist-packages (from python-dateutil>=2.8.1->pandas>=1.4.0->pyserini) (1.16.0)\n",
            "Requirement already satisfied: charset-normalizer<4,>=2 in /usr/local/lib/python3.10/dist-packages (from requests<3.0.0,>=2.13.0->spacy>=3.2.1->pyserini) (3.3.2)\n",
            "Requirement already satisfied: urllib3<3,>=1.21.1 in /usr/local/lib/python3.10/dist-packages (from requests<3.0.0,>=2.13.0->spacy>=3.2.1->pyserini) (2.0.7)\n",
            "Requirement already satisfied: blis<0.8.0,>=0.7.8 in /usr/local/lib/python3.10/dist-packages (from thinc<8.2.0,>=8.1.8->spacy>=3.2.1->pyserini) (0.7.11)\n",
            "Requirement already satisfied: confection<1.0.0,>=0.0.1 in /usr/local/lib/python3.10/dist-packages (from thinc<8.2.0,>=8.1.8->spacy>=3.2.1->pyserini) (0.1.4)\n",
            "Requirement already satisfied: click<9.0.0,>=7.1.1 in /usr/local/lib/python3.10/dist-packages (from typer<0.10.0,>=0.3.0->spacy>=3.2.1->pyserini) (8.1.7)\n",
            "Collecting humanfriendly>=9.1 (from coloredlogs->onnxruntime>=1.8.1->pyserini)\n",
            "  Downloading humanfriendly-10.0-py2.py3-none-any.whl (86 kB)\n",
            "\u001b[2K     \u001b[90m━━━━━━━━━━━━━━━━━━━━━━━━━━━━━━━━━━━━━━━━\u001b[0m \u001b[32m86.8/86.8 kB\u001b[0m \u001b[31m6.1 MB/s\u001b[0m eta \u001b[36m0:00:00\u001b[0m\n",
            "\u001b[?25hRequirement already satisfied: MarkupSafe>=2.0 in /usr/local/lib/python3.10/dist-packages (from jinja2->spacy>=3.2.1->pyserini) (2.1.4)\n",
            "Requirement already satisfied: mpmath>=0.19 in /usr/local/lib/python3.10/dist-packages (from sympy->onnxruntime>=1.8.1->pyserini) (1.3.0)\n",
            "Building wheels for collected packages: nmslib\n",
            "  Building wheel for nmslib (setup.py) ... \u001b[?25l\u001b[?25hdone\n",
            "  Created wheel for nmslib: filename=nmslib-2.1.1-cp310-cp310-linux_x86_64.whl size=13578646 sha256=f9b6b6e54d4c01a1a4780560356384731daa7aefc230726185c058c950d896c0\n",
            "  Stored in directory: /root/.cache/pip/wheels/21/1a/5d/4cc754a5b1a88405cad184b76f823897a63a8d19afcd4b9314\n",
            "Successfully built nmslib\n",
            "Installing collected packages: pyjnius, typing-extensions, pybind11, humanfriendly, h11, tiktoken, nmslib, httpcore, coloredlogs, onnxruntime, httpx, openai, pyserini\n",
            "  Attempting uninstall: typing-extensions\n",
            "    Found existing installation: typing_extensions 4.5.0\n",
            "    Uninstalling typing_extensions-4.5.0:\n",
            "      Successfully uninstalled typing_extensions-4.5.0\n",
            "\u001b[31mERROR: pip's dependency resolver does not currently take into account all the packages that are installed. This behaviour is the source of the following dependency conflicts.\n",
            "llmx 0.0.15a0 requires cohere, which is not installed.\n",
            "tensorflow-probability 0.22.0 requires typing-extensions<4.6.0, but you have typing-extensions 4.9.0 which is incompatible.\u001b[0m\u001b[31m\n",
            "\u001b[0mSuccessfully installed coloredlogs-15.0.1 h11-0.14.0 httpcore-1.0.2 httpx-0.26.0 humanfriendly-10.0 nmslib-2.1.1 onnxruntime-1.17.0 openai-1.10.0 pybind11-2.6.1 pyjnius-1.6.1 pyserini-0.24.0 tiktoken-0.5.2 typing-extensions-4.9.0\n",
            "Cloning into 'anserini'...\n",
            "remote: Enumerating objects: 33779, done.\u001b[K\n",
            "remote: Counting objects: 100% (8097/8097), done.\u001b[K\n",
            "remote: Compressing objects: 100% (1074/1074), done.\u001b[K\n",
            "remote: Total 33779 (delta 7032), reused 7781 (delta 6840), pack-reused 25682\u001b[K\n",
            "Receiving objects: 100% (33779/33779), 89.11 MiB | 21.27 MiB/s, done.\n",
            "Resolving deltas: 100% (23681/23681), done.\n",
            "/content/anserini\n"
          ]
        }
      ],
      "source": [
        "\n",
        "!apt-get install maven -y\n",
        "!pip install pyserini\n",
        "\n",
        "!git clone https://github.com/castorini/anserini.git\n",
        "%cd anserini\n"
      ]
    },
    {
      "cell_type": "markdown",
      "source": [
        "# Create a directory named \"collections/msmarco-passage\" to store the MS MARCO Passage collection\n",
        "# Download the MS MARCO Passage collection from the official website\n",
        "# Extract the downloaded archive into the \"collections/msmarco-passage\" directory"
      ],
      "metadata": {
        "id": "KxEO-2ZCKEuv"
      }
    },
    {
      "cell_type": "code",
      "source": [
        "!mkdir collections/msmarco-passage\n",
        "!wget https://msmarco.blob.core.windows.net/msmarcoranking/collectionandqueries.tar.gz -P collections/msmarco-passage\n",
        "!tar xvfz collections/msmarco-passage/collectionandqueries.tar.gz -C collections/msmarco-passage\n"
      ],
      "metadata": {
        "colab": {
          "base_uri": "https://localhost:8080/"
        },
        "id": "r-7RGAwJnYDz",
        "outputId": "0553b9d9-b009-45dc-bf94-c9cbec782672"
      },
      "execution_count": null,
      "outputs": [
        {
          "output_type": "stream",
          "name": "stdout",
          "text": [
            "--2024-02-01 03:06:27--  https://msmarco.blob.core.windows.net/msmarcoranking/collectionandqueries.tar.gz\n",
            "Resolving msmarco.blob.core.windows.net (msmarco.blob.core.windows.net)... 20.150.34.4\n",
            "Connecting to msmarco.blob.core.windows.net (msmarco.blob.core.windows.net)|20.150.34.4|:443... connected.\n",
            "HTTP request sent, awaiting response... 200 OK\n",
            "Length: 1057717952 (1009M) [application/gzip]\n",
            "Saving to: ‘collections/msmarco-passage/collectionandqueries.tar.gz’\n",
            "\n",
            "collectionandquerie 100%[===================>]   1009M  27.9MB/s    in 41s     \n",
            "\n",
            "2024-02-01 03:07:09 (24.4 MB/s) - ‘collections/msmarco-passage/collectionandqueries.tar.gz’ saved [1057717952/1057717952]\n",
            "\n",
            "collection.tsv\n",
            "qrels.dev.small.tsv\n",
            "qrels.train.tsv\n",
            "queries.dev.small.tsv\n",
            "queries.dev.tsv\n",
            "queries.eval.small.tsv\n",
            "queries.eval.tsv\n",
            "queries.train.tsv\n"
          ]
        }
      ]
    },
    {
      "cell_type": "code",
      "source": [
        "!echo \"31644046b18952c1386cd4564ba2ae69  collections/msmarco-passage/collectionandqueries.tar.gz\" | md5sum -c -\n"
      ],
      "metadata": {
        "colab": {
          "base_uri": "https://localhost:8080/"
        },
        "id": "p_OtH4o5o9bC",
        "outputId": "a3317d2e-0ae3-43b8-e857-26f2660c2ec3"
      },
      "execution_count": null,
      "outputs": [
        {
          "output_type": "stream",
          "name": "stdout",
          "text": [
            "collections/msmarco-passage/collectionandqueries.tar.gz: OK\n"
          ]
        }
      ]
    },
    {
      "cell_type": "markdown",
      "source": [
        "# Clone the Anserini tools repository"
      ],
      "metadata": {
        "id": "BkuC6rUBKNj7"
      }
    },
    {
      "cell_type": "code",
      "source": [
        "\n",
        "!git clone https://github.com/castorini/anserini-tools.git\n",
        "%cd anserini-tools\n",
        "!git checkout 03ebff1c854dae8a59e53e58fd54ff0b035ded24\n"
      ],
      "metadata": {
        "colab": {
          "base_uri": "https://localhost:8080/"
        },
        "id": "fgSLB_tivdX9",
        "outputId": "f0fe1800-d608-4a3d-8c41-23785191b7f7"
      },
      "execution_count": null,
      "outputs": [
        {
          "output_type": "stream",
          "name": "stdout",
          "text": [
            "Cloning into 'anserini-tools'...\n",
            "remote: Enumerating objects: 909, done.\u001b[K\n",
            "remote: Counting objects: 100% (666/666), done.\u001b[K\n",
            "remote: Compressing objects: 100% (569/569), done.\u001b[K\n",
            "remote: Total 909 (delta 114), reused 642 (delta 96), pack-reused 243\u001b[K\n",
            "Receiving objects: 100% (909/909), 605.06 MiB | 32.54 MiB/s, done.\n",
            "Resolving deltas: 100% (198/198), done.\n",
            "Updating files: 100% (695/695), done.\n",
            "/content/anserini/anserini-tools\n",
            "Note: switching to '03ebff1c854dae8a59e53e58fd54ff0b035ded24'.\n",
            "\n",
            "You are in 'detached HEAD' state. You can look around, make experimental\n",
            "changes and commit them, and you can discard any commits you make in this\n",
            "state without impacting any branches by switching back to a branch.\n",
            "\n",
            "If you want to create a new branch to retain commits you create, you may\n",
            "do so (now or later) by using -c with the switch command. Example:\n",
            "\n",
            "  git switch -c <new-branch-name>\n",
            "\n",
            "Or undo this operation with:\n",
            "\n",
            "  git switch -\n",
            "\n",
            "Turn off this advice by setting config variable advice.detachedHead to false\n",
            "\n",
            "HEAD is now at 03ebff1 Ignore latest trec_eval build. (#64)\n"
          ]
        }
      ]
    },
    {
      "cell_type": "markdown",
      "source": [
        "# Convert the MS MARCO Passage collection from TSV format to JSONL format"
      ],
      "metadata": {
        "id": "ZnWHgSaBLE9-"
      }
    },
    {
      "cell_type": "code",
      "source": [
        "!python /content/anserini/anserini-tools/scripts/msmarco/convert_collection_to_jsonl.py \\\n",
        "  --collection-path /content/anserini/collections/msmarco-passage/collection.tsv \\\n",
        "  --output-folder collections/msmarco-passage/collection_jsonl\n"
      ],
      "metadata": {
        "colab": {
          "base_uri": "https://localhost:8080/"
        },
        "id": "_YfOJRHDpCOU",
        "outputId": "89535ff9-017a-478b-c3ba-d9304b453dd2"
      },
      "execution_count": null,
      "outputs": [
        {
          "output_type": "stream",
          "name": "stdout",
          "text": [
            "Converting collection...\n",
            "Converted 0 docs, writing into file 1\n",
            "Converted 100,000 docs, writing into file 1\n",
            "Converted 200,000 docs, writing into file 1\n",
            "Converted 300,000 docs, writing into file 1\n",
            "Converted 400,000 docs, writing into file 1\n",
            "Converted 500,000 docs, writing into file 1\n",
            "Converted 600,000 docs, writing into file 1\n",
            "Converted 700,000 docs, writing into file 1\n",
            "Converted 800,000 docs, writing into file 1\n",
            "Converted 900,000 docs, writing into file 1\n",
            "Converted 1,000,000 docs, writing into file 2\n",
            "Converted 1,100,000 docs, writing into file 2\n",
            "Converted 1,200,000 docs, writing into file 2\n",
            "Converted 1,300,000 docs, writing into file 2\n",
            "Converted 1,400,000 docs, writing into file 2\n",
            "Converted 1,500,000 docs, writing into file 2\n",
            "Converted 1,600,000 docs, writing into file 2\n",
            "Converted 1,700,000 docs, writing into file 2\n",
            "Converted 1,800,000 docs, writing into file 2\n",
            "Converted 1,900,000 docs, writing into file 2\n",
            "Converted 2,000,000 docs, writing into file 3\n",
            "Converted 2,100,000 docs, writing into file 3\n",
            "Converted 2,200,000 docs, writing into file 3\n",
            "Converted 2,300,000 docs, writing into file 3\n",
            "Converted 2,400,000 docs, writing into file 3\n",
            "Converted 2,500,000 docs, writing into file 3\n",
            "Converted 2,600,000 docs, writing into file 3\n",
            "Converted 2,700,000 docs, writing into file 3\n",
            "Converted 2,800,000 docs, writing into file 3\n",
            "Converted 2,900,000 docs, writing into file 3\n",
            "Converted 3,000,000 docs, writing into file 4\n",
            "Converted 3,100,000 docs, writing into file 4\n",
            "Converted 3,200,000 docs, writing into file 4\n",
            "Converted 3,300,000 docs, writing into file 4\n",
            "Converted 3,400,000 docs, writing into file 4\n",
            "Converted 3,500,000 docs, writing into file 4\n",
            "Converted 3,600,000 docs, writing into file 4\n",
            "Converted 3,700,000 docs, writing into file 4\n",
            "Converted 3,800,000 docs, writing into file 4\n",
            "Converted 3,900,000 docs, writing into file 4\n",
            "Converted 4,000,000 docs, writing into file 5\n",
            "Converted 4,100,000 docs, writing into file 5\n",
            "Converted 4,200,000 docs, writing into file 5\n",
            "Converted 4,300,000 docs, writing into file 5\n",
            "Converted 4,400,000 docs, writing into file 5\n",
            "Converted 4,500,000 docs, writing into file 5\n",
            "Converted 4,600,000 docs, writing into file 5\n",
            "Converted 4,700,000 docs, writing into file 5\n",
            "Converted 4,800,000 docs, writing into file 5\n",
            "Converted 4,900,000 docs, writing into file 5\n",
            "Converted 5,000,000 docs, writing into file 6\n",
            "Converted 5,100,000 docs, writing into file 6\n",
            "Converted 5,200,000 docs, writing into file 6\n",
            "Converted 5,300,000 docs, writing into file 6\n",
            "Converted 5,400,000 docs, writing into file 6\n",
            "Converted 5,500,000 docs, writing into file 6\n",
            "Converted 5,600,000 docs, writing into file 6\n",
            "Converted 5,700,000 docs, writing into file 6\n",
            "Converted 5,800,000 docs, writing into file 6\n",
            "Converted 5,900,000 docs, writing into file 6\n",
            "Converted 6,000,000 docs, writing into file 7\n",
            "Converted 6,100,000 docs, writing into file 7\n",
            "Converted 6,200,000 docs, writing into file 7\n",
            "Converted 6,300,000 docs, writing into file 7\n",
            "Converted 6,400,000 docs, writing into file 7\n",
            "Converted 6,500,000 docs, writing into file 7\n",
            "Converted 6,600,000 docs, writing into file 7\n",
            "Converted 6,700,000 docs, writing into file 7\n",
            "Converted 6,800,000 docs, writing into file 7\n",
            "Converted 6,900,000 docs, writing into file 7\n",
            "Converted 7,000,000 docs, writing into file 8\n",
            "Converted 7,100,000 docs, writing into file 8\n",
            "Converted 7,200,000 docs, writing into file 8\n",
            "Converted 7,300,000 docs, writing into file 8\n",
            "Converted 7,400,000 docs, writing into file 8\n",
            "Converted 7,500,000 docs, writing into file 8\n",
            "Converted 7,600,000 docs, writing into file 8\n",
            "Converted 7,700,000 docs, writing into file 8\n",
            "Converted 7,800,000 docs, writing into file 8\n",
            "Converted 7,900,000 docs, writing into file 8\n",
            "Converted 8,000,000 docs, writing into file 9\n",
            "Converted 8,100,000 docs, writing into file 9\n",
            "Converted 8,200,000 docs, writing into file 9\n",
            "Converted 8,300,000 docs, writing into file 9\n",
            "Converted 8,400,000 docs, writing into file 9\n",
            "Converted 8,500,000 docs, writing into file 9\n",
            "Converted 8,600,000 docs, writing into file 9\n",
            "Converted 8,700,000 docs, writing into file 9\n",
            "Converted 8,800,000 docs, writing into file 9\n",
            "Done!\n"
          ]
        }
      ]
    },
    {
      "cell_type": "code",
      "source": [
        "!pip install faiss-cpu\n"
      ],
      "metadata": {
        "colab": {
          "base_uri": "https://localhost:8080/"
        },
        "id": "tSjdZydt1LUX",
        "outputId": "8c798cbd-28dd-4236-d05e-584ad8af7f3f"
      },
      "execution_count": null,
      "outputs": [
        {
          "output_type": "stream",
          "name": "stdout",
          "text": [
            "Collecting faiss-cpu\n",
            "  Downloading faiss_cpu-1.7.4-cp310-cp310-manylinux_2_17_x86_64.manylinux2014_x86_64.whl (17.6 MB)\n",
            "\u001b[2K     \u001b[90m━━━━━━━━━━━━━━━━━━━━━━━━━━━━━━━━━━━━━━━━\u001b[0m \u001b[32m17.6/17.6 MB\u001b[0m \u001b[31m39.0 MB/s\u001b[0m eta \u001b[36m0:00:00\u001b[0m\n",
            "\u001b[?25hInstalling collected packages: faiss-cpu\n",
            "Successfully installed faiss-cpu-1.7.4\n"
          ]
        }
      ]
    },
    {
      "cell_type": "markdown",
      "source": [
        "# Index the MS MARCO Passage collection using Pyserini\n"
      ],
      "metadata": {
        "id": "cFa2LH8QLS9y"
      }
    },
    {
      "cell_type": "code",
      "source": [
        "!python -m pyserini.index.lucene \\\n",
        "  --collection JsonCollection \\\n",
        "  --input collections/msmarco-passage/collection_jsonl \\\n",
        "  --index indexes/lucene-index-msmarco-passage \\\n",
        "  --generator DefaultLuceneDocumentGenerator \\\n",
        "  --threads 2 \\\n",
        "  --storePositions --storeDocvectors --storeRaw\n"
      ],
      "metadata": {
        "colab": {
          "base_uri": "https://localhost:8080/"
        },
        "id": "q9UNY_oOwRoo",
        "outputId": "857acce9-09e6-4b89-d32c-5fe9aba52855"
      },
      "execution_count": null,
      "outputs": [
        {
          "output_type": "stream",
          "name": "stdout",
          "text": [
            "WARNING: sun.reflect.Reflection.getCallerClass is not supported. This will impact performance.\n",
            "2024-02-01 04:02:26,936 INFO  [main] index.AbstractIndexer (AbstractIndexer.java:204) - Setting log level to INFO\n",
            "2024-02-01 04:02:26,942 INFO  [main] index.AbstractIndexer (AbstractIndexer.java:207) - ============ Loading Index Configuration ============\n",
            "2024-02-01 04:02:26,942 INFO  [main] index.AbstractIndexer (AbstractIndexer.java:208) - AbstractIndexer settings:\n",
            "2024-02-01 04:02:26,943 INFO  [main] index.AbstractIndexer (AbstractIndexer.java:209) -  + DocumentCollection path: collections/msmarco-passage/collection_jsonl\n",
            "2024-02-01 04:02:26,943 INFO  [main] index.AbstractIndexer (AbstractIndexer.java:210) -  + CollectionClass: JsonCollection\n",
            "2024-02-01 04:02:26,944 INFO  [main] index.AbstractIndexer (AbstractIndexer.java:211) -  + Index path: indexes/lucene-index-msmarco-passage\n",
            "2024-02-01 04:02:26,951 INFO  [main] index.AbstractIndexer (AbstractIndexer.java:212) -  + Threads: 2\n",
            "2024-02-01 04:02:26,951 INFO  [main] index.AbstractIndexer (AbstractIndexer.java:213) -  + Optimize (merge segments)? false\n",
            "2024-02-01 04:02:27,033 INFO  [main] index.IndexCollection (IndexCollection.java:246) - Using DefaultEnglishAnalyzer\n",
            "2024-02-01 04:02:27,034 INFO  [main] index.IndexCollection (IndexCollection.java:247) - Stemmer: porter\n",
            "2024-02-01 04:02:27,035 INFO  [main] index.IndexCollection (IndexCollection.java:248) - Keep stopwords? false\n",
            "2024-02-01 04:02:27,036 INFO  [main] index.IndexCollection (IndexCollection.java:249) - Stopwords file: null\n",
            "2024-02-01 04:02:27,474 INFO  [main] index.IndexCollection (IndexCollection.java:197) - IndexCollection settings:\n",
            "2024-02-01 04:02:27,478 INFO  [main] index.IndexCollection (IndexCollection.java:198) -  + Generator: DefaultLuceneDocumentGenerator\n",
            "2024-02-01 04:02:27,479 INFO  [main] index.IndexCollection (IndexCollection.java:199) -  + Language: en\n",
            "2024-02-01 04:02:27,480 INFO  [main] index.IndexCollection (IndexCollection.java:200) -  + Stemmer: porter\n",
            "2024-02-01 04:02:27,481 INFO  [main] index.IndexCollection (IndexCollection.java:201) -  + Keep stopwords? false\n",
            "2024-02-01 04:02:27,482 INFO  [main] index.IndexCollection (IndexCollection.java:202) -  + Stopwords: null\n",
            "2024-02-01 04:02:27,483 INFO  [main] index.IndexCollection (IndexCollection.java:203) -  + Store positions? true\n",
            "2024-02-01 04:02:27,483 INFO  [main] index.IndexCollection (IndexCollection.java:204) -  + Store docvectors? true\n",
            "2024-02-01 04:02:27,483 INFO  [main] index.IndexCollection (IndexCollection.java:205) -  + Store document \"contents\" field? false\n",
            "2024-02-01 04:02:27,484 INFO  [main] index.IndexCollection (IndexCollection.java:206) -  + Store document \"raw\" field? true\n",
            "2024-02-01 04:02:27,485 INFO  [main] index.IndexCollection (IndexCollection.java:207) -  + Additional fields to index: []\n",
            "2024-02-01 04:02:27,489 INFO  [main] index.IndexCollection (IndexCollection.java:208) -  + Whitelist: null\n",
            "2024-02-01 04:02:27,489 INFO  [main] index.IndexCollection (IndexCollection.java:209) -  + Pretokenized?: false\n",
            "2024-02-01 04:02:27,490 INFO  [main] index.IndexCollection (IndexCollection.java:210) -  + Codec: Lucene99\n",
            "2024-02-01 04:02:27,490 INFO  [main] index.AbstractIndexer (AbstractIndexer.java:237) - ============ Indexing Collection ============\n",
            "2024-02-01 04:02:27,496 INFO  [main] index.AbstractIndexer (AbstractIndexer.java:246) - Thread pool with 2 threads initialized.\n",
            "2024-02-01 04:02:27,497 INFO  [main] index.AbstractIndexer (AbstractIndexer.java:247) - 9 files found in collections/msmarco-passage/collection_jsonl \n",
            "2024-02-01 04:02:27,498 INFO  [main] index.AbstractIndexer (AbstractIndexer.java:248) - Starting to index...\n",
            "2024-02-01 04:03:27,512 INFO  [main] index.AbstractIndexer (AbstractIndexer.java:260) - 0.00% of files completed, 620,000 documents indexed\n",
            "2024-02-01 04:04:27,514 INFO  [main] index.AbstractIndexer (AbstractIndexer.java:260) - 0.00% of files completed, 1,320,000 documents indexed\n",
            "2024-02-01 04:05:27,515 INFO  [main] index.AbstractIndexer (AbstractIndexer.java:260) - 0.00% of files completed, 1,980,000 documents indexed\n",
            "2024-02-01 04:05:28,469 DEBUG [pool-2-thread-2] index.AbstractIndexer$IndexerThread (AbstractIndexer.java:175) - collection_jsonl/docs03.json: 1000000 docs added.\n",
            "2024-02-01 04:05:28,938 DEBUG [pool-2-thread-1] index.AbstractIndexer$IndexerThread (AbstractIndexer.java:175) - collection_jsonl/docs04.json: 1000000 docs added.\n",
            "2024-02-01 04:06:27,518 INFO  [main] index.AbstractIndexer (AbstractIndexer.java:260) - 22.22% of files completed, 2,610,000 documents indexed\n",
            "2024-02-01 04:07:27,519 INFO  [main] index.AbstractIndexer (AbstractIndexer.java:260) - 22.22% of files completed, 3,210,000 documents indexed\n",
            "2024-02-01 04:08:27,523 INFO  [main] index.AbstractIndexer (AbstractIndexer.java:260) - 22.22% of files completed, 3,850,000 documents indexed\n",
            "2024-02-01 04:08:39,356 DEBUG [pool-2-thread-1] index.AbstractIndexer$IndexerThread (AbstractIndexer.java:175) - collection_jsonl/docs07.json: 1000000 docs added.\n",
            "2024-02-01 04:08:41,203 DEBUG [pool-2-thread-2] index.AbstractIndexer$IndexerThread (AbstractIndexer.java:175) - collection_jsonl/docs01.json: 1000000 docs added.\n",
            "2024-02-01 04:09:27,524 INFO  [main] index.AbstractIndexer (AbstractIndexer.java:260) - 44.44% of files completed, 4,460,000 documents indexed\n",
            "2024-02-01 04:10:27,526 INFO  [main] index.AbstractIndexer (AbstractIndexer.java:260) - 44.44% of files completed, 5,000,000 documents indexed\n",
            "2024-02-01 04:11:27,527 INFO  [main] index.AbstractIndexer (AbstractIndexer.java:260) - 44.44% of files completed, 5,480,000 documents indexed\n",
            "2024-02-01 04:12:22,539 DEBUG [pool-2-thread-1] index.AbstractIndexer$IndexerThread (AbstractIndexer.java:175) - collection_jsonl/docs02.json: 1000000 docs added.\n",
            "2024-02-01 04:12:27,529 INFO  [main] index.AbstractIndexer (AbstractIndexer.java:260) - 55.56% of files completed, 5,990,000 documents indexed\n",
            "2024-02-01 04:12:31,441 DEBUG [pool-2-thread-2] index.AbstractIndexer$IndexerThread (AbstractIndexer.java:175) - collection_jsonl/docs05.json: 1000000 docs added.\n",
            "2024-02-01 04:13:27,530 INFO  [main] index.AbstractIndexer (AbstractIndexer.java:260) - 66.67% of files completed, 6,550,000 documents indexed\n",
            "2024-02-01 04:14:27,531 INFO  [main] index.AbstractIndexer (AbstractIndexer.java:260) - 66.67% of files completed, 7,100,000 documents indexed\n",
            "2024-02-01 04:15:24,545 DEBUG [pool-2-thread-1] index.AbstractIndexer$IndexerThread (AbstractIndexer.java:175) - collection_jsonl/docs08.json: 841823 docs added.\n",
            "2024-02-01 04:15:27,532 INFO  [main] index.AbstractIndexer (AbstractIndexer.java:260) - 77.78% of files completed, 7,661,823 documents indexed\n",
            "2024-02-01 04:16:05,410 DEBUG [pool-2-thread-2] index.AbstractIndexer$IndexerThread (AbstractIndexer.java:175) - collection_jsonl/docs00.json: 1000000 docs added.\n",
            "2024-02-01 04:16:27,533 INFO  [main] index.AbstractIndexer (AbstractIndexer.java:260) - 88.89% of files completed, 8,181,823 documents indexed\n",
            "2024-02-01 04:17:27,534 INFO  [main] index.AbstractIndexer (AbstractIndexer.java:260) - 88.89% of files completed, 8,631,823 documents indexed\n",
            "2024-02-01 04:17:53,291 DEBUG [pool-2-thread-1] index.AbstractIndexer$IndexerThread (AbstractIndexer.java:175) - collection_jsonl/docs06.json: 1000000 docs added.\n",
            "2024-02-01 04:19:27,778 INFO  [main] index.AbstractIndexer (AbstractIndexer.java:306) - Indexing Complete! 8,841,823 documents indexed\n",
            "2024-02-01 04:19:27,779 INFO  [main] index.AbstractIndexer (AbstractIndexer.java:307) - ============ Final Counter Values ============\n",
            "2024-02-01 04:19:27,779 INFO  [main] index.AbstractIndexer (AbstractIndexer.java:308) - indexed:        8,841,823\n",
            "2024-02-01 04:19:27,779 INFO  [main] index.AbstractIndexer (AbstractIndexer.java:309) - unindexable:            0\n",
            "2024-02-01 04:19:27,780 INFO  [main] index.AbstractIndexer (AbstractIndexer.java:310) - empty:                  0\n",
            "2024-02-01 04:19:27,780 INFO  [main] index.AbstractIndexer (AbstractIndexer.java:311) - skipped:                0\n",
            "2024-02-01 04:19:27,780 INFO  [main] index.AbstractIndexer (AbstractIndexer.java:312) - errors:                 0\n",
            "2024-02-01 04:19:27,793 INFO  [main] index.AbstractIndexer (AbstractIndexer.java:315) - Total 8,841,823 documents indexed in 00:17:00\n"
          ]
        }
      ]
    },
    {
      "cell_type": "markdown",
      "source": [
        "# Search the MS MARCO Passage collection using Pyserini with BM25 retrieval model"
      ],
      "metadata": {
        "id": "9AdDZzpFLejM"
      }
    },
    {
      "cell_type": "code",
      "source": [
        "!python -m pyserini.search.lucene \\\n",
        "  --index /content/anserini/anserini-tools/indexes/lucene-index-msmarco-passage \\\n",
        "  --topics msmarco-passage-dev-subset \\\n",
        "  --output runs/run.msmarco-passage.bm25tuned.txt \\\n",
        "  --output-format msmarco \\\n",
        "  --hits 1000 \\\n",
        "  --bm25 --k1 0.82 --b 0.68 \\\n",
        "  --threads 2 --batch-size 16\n"
      ],
      "metadata": {
        "colab": {
          "base_uri": "https://localhost:8080/"
        },
        "id": "jVyhWgC5wV4w",
        "outputId": "8395c466-c7d4-48f4-977a-b9fb4b63b617"
      },
      "execution_count": null,
      "outputs": [
        {
          "output_type": "stream",
          "name": "stdout",
          "text": [
            "Downloading topics from https://raw.githubusercontent.com/castorini/anserini-tools/master/topics-and-qrels/topics.msmarco-passage.dev-subset.txt\n",
            "Using pre-defined topic order for msmarco-passage-dev-subset\n",
            "Setting BM25 parameters: k1=0.82, b=0.68\n",
            "Running msmarco-passage-dev-subset topics, saving to runs/run.msmarco-passage.bm25tuned.txt...\n",
            "100% 6980/6980 [09:20<00:00, 12.45it/s]\n"
          ]
        }
      ]
    },
    {
      "cell_type": "markdown",
      "source": [
        "# Evaluate the BM25 retrieval model on the MS MARCO Passage development subset"
      ],
      "metadata": {
        "id": "pZUPR68TLnD_"
      }
    },
    {
      "cell_type": "code",
      "source": [
        "!python -m pyserini.eval.msmarco_passage_eval \\\n",
        "  /content/anserini/anserini-tools/topics-and-qrels/qrels.msmarco-passage.dev-subset.txt \\\n",
        "  runs/run.msmarco-passage.bm25tuned.txt\n"
      ],
      "metadata": {
        "colab": {
          "base_uri": "https://localhost:8080/"
        },
        "id": "mseT1H9LwZvZ",
        "outputId": "37b3c41e-8034-4fdb-cb19-4e9ed014e45a"
      },
      "execution_count": null,
      "outputs": [
        {
          "output_type": "stream",
          "name": "stdout",
          "text": [
            "Downloading https://raw.githubusercontent.com/castorini/anserini-tools/master/scripts/msmarco/msmarco_passage_eval.py to /root/.cache/pyserini/eval/msmarco_passage_eval.py...\n",
            "/root/.cache/pyserini/eval/msmarco_passage_eval.py already exists!\n",
            "Skipping download.\n",
            "Running command: ['python', '/root/.cache/pyserini/eval/msmarco_passage_eval.py', '/content/anserini/anserini-tools/topics-and-qrels/qrels.msmarco-passage.dev-subset.txt', 'runs/run.msmarco-passage.bm25tuned.txt']\n",
            "Results:\n",
            "#####################\n",
            "MRR @10: 0.18741227770955546\n",
            "QueriesRanked: 6980\n",
            "#####################\n",
            "\n"
          ]
        }
      ]
    }
  ]
}