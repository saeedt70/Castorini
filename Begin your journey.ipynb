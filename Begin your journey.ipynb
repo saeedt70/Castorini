{
  "nbformat": 4,
  "nbformat_minor": 0,
  "metadata": {
    "colab": {
      "provenance": [],
      "gpuType": "T4"
    },
    "kernelspec": {
      "name": "python3",
      "display_name": "Python 3"
    },
    "language_info": {
      "name": "python"
    },
    "accelerator": "GPU"
  },
  "cells": [
    {
      "cell_type": "markdown",
      "source": [
        "# Step 1: Clone the Anserini repository and initialize the submodule"
      ],
      "metadata": {
        "id": "Lz43O0zJ2SzT"
      }
    },
    {
      "cell_type": "code",
      "source": [
        "!git clone https://github.com/castorini/anserini.git\n",
        "%cd anserini\n",
        "!git submodule update --init --recursive"
      ],
      "metadata": {
        "id": "SHbRrK-V2Q86",
        "outputId": "7681b57f-4330-47f3-d7ed-e0fbd8c8cf65",
        "colab": {
          "base_uri": "https://localhost:8080/"
        }
      },
      "execution_count": null,
      "outputs": [
        {
          "output_type": "stream",
          "name": "stdout",
          "text": [
            "Cloning into 'anserini'...\n",
            "remote: Enumerating objects: 33262, done.\u001b[K\n",
            "remote: Counting objects: 100% (7580/7580), done.\u001b[K\n",
            "remote: Compressing objects: 100% (980/980), done.\u001b[K\n",
            "remote: Total 33262 (delta 6530), reused 7357 (delta 6414), pack-reused 25682\u001b[K\n",
            "Receiving objects: 100% (33262/33262), 88.93 MiB | 24.22 MiB/s, done.\n",
            "Resolving deltas: 100% (23179/23179), done.\n",
            "/content/anserini\n",
            "Submodule 'tools' (https://github.com/castorini/anserini-tools.git) registered for path 'tools'\n",
            "Cloning into '/content/anserini/tools'...\n",
            "Submodule path 'tools': checked out '24c108f5f3a2446d8ca59c930987efb4f1ead8cf'\n"
          ]
        }
      ]
    },
    {
      "cell_type": "markdown",
      "source": [
        "# Step 2: Download and extract the data"
      ],
      "metadata": {
        "id": "pP9Go1AB2jQE"
      }
    },
    {
      "cell_type": "code",
      "source": [
        "!mkdir collections/msmarco-passage\n",
        "!wget https://msmarco.blob.core.windows.net/msmarcoranking/collectionandqueries.tar.gz -P collections/msmarco-passage\n",
        "!tar xvfz collections/msmarco-passage/collectionandqueries.tar.gz -C collections/msmarco-passage"
      ],
      "metadata": {
        "id": "E4nZlrVg2i11",
        "outputId": "4348a827-2a06-464f-cbcb-f7bedacfd8e3",
        "colab": {
          "base_uri": "https://localhost:8080/"
        }
      },
      "execution_count": null,
      "outputs": [
        {
          "output_type": "stream",
          "name": "stdout",
          "text": [
            "--2024-01-13 17:27:48--  https://msmarco.blob.core.windows.net/msmarcoranking/collectionandqueries.tar.gz\n",
            "Resolving msmarco.blob.core.windows.net (msmarco.blob.core.windows.net)... 20.150.34.4\n",
            "Connecting to msmarco.blob.core.windows.net (msmarco.blob.core.windows.net)|20.150.34.4|:443... connected.\n",
            "HTTP request sent, awaiting response... 200 OK\n",
            "Length: 1057717952 (1009M) [application/gzip]\n",
            "Saving to: ‘collections/msmarco-passage/collectionandqueries.tar.gz’\n",
            "\n",
            "collectionandquerie 100%[===================>]   1009M  35.6MB/s    in 31s     \n",
            "\n",
            "2024-01-13 17:28:19 (32.2 MB/s) - ‘collections/msmarco-passage/collectionandqueries.tar.gz’ saved [1057717952/1057717952]\n",
            "\n",
            "collection.tsv\n",
            "qrels.dev.small.tsv\n",
            "qrels.train.tsv\n",
            "queries.dev.small.tsv\n",
            "queries.dev.tsv\n",
            "queries.eval.small.tsv\n",
            "queries.eval.tsv\n",
            "queries.train.tsv\n"
          ]
        }
      ]
    },
    {
      "cell_type": "markdown",
      "source": [
        "# Step 3: Convert the collection to jsonl format"
      ],
      "metadata": {
        "id": "RJFQMXu02tt4"
      }
    },
    {
      "cell_type": "code",
      "source": [
        "\n",
        "!python tools/scripts/msmarco/convert_collection_to_jsonl.py --collection-path collections/msmarco-passage/collection.tsv --output-folder collections/msmarco-passage/collection_jsonl\n"
      ],
      "metadata": {
        "id": "SzR1cWQv2uth",
        "outputId": "e2620cf0-1b84-4c83-e9ae-d15b3ca5e755",
        "colab": {
          "base_uri": "https://localhost:8080/"
        }
      },
      "execution_count": null,
      "outputs": [
        {
          "output_type": "stream",
          "name": "stdout",
          "text": [
            "Converting collection...\n",
            "Converted 0 docs, writing into file 1\n",
            "Converted 100,000 docs, writing into file 1\n",
            "Converted 200,000 docs, writing into file 1\n",
            "Converted 300,000 docs, writing into file 1\n",
            "Converted 400,000 docs, writing into file 1\n",
            "Converted 500,000 docs, writing into file 1\n",
            "Converted 600,000 docs, writing into file 1\n",
            "Converted 700,000 docs, writing into file 1\n",
            "Converted 800,000 docs, writing into file 1\n",
            "Converted 900,000 docs, writing into file 1\n",
            "Converted 1,000,000 docs, writing into file 2\n",
            "Converted 1,100,000 docs, writing into file 2\n",
            "Converted 1,200,000 docs, writing into file 2\n",
            "Converted 1,300,000 docs, writing into file 2\n",
            "Converted 1,400,000 docs, writing into file 2\n",
            "Converted 1,500,000 docs, writing into file 2\n",
            "Converted 1,600,000 docs, writing into file 2\n",
            "Converted 1,700,000 docs, writing into file 2\n",
            "Converted 1,800,000 docs, writing into file 2\n",
            "Converted 1,900,000 docs, writing into file 2\n",
            "Converted 2,000,000 docs, writing into file 3\n",
            "Converted 2,100,000 docs, writing into file 3\n",
            "Converted 2,200,000 docs, writing into file 3\n",
            "Converted 2,300,000 docs, writing into file 3\n",
            "Converted 2,400,000 docs, writing into file 3\n",
            "Converted 2,500,000 docs, writing into file 3\n",
            "Converted 2,600,000 docs, writing into file 3\n",
            "Converted 2,700,000 docs, writing into file 3\n",
            "Converted 2,800,000 docs, writing into file 3\n",
            "Converted 2,900,000 docs, writing into file 3\n",
            "Converted 3,000,000 docs, writing into file 4\n",
            "Converted 3,100,000 docs, writing into file 4\n",
            "Converted 3,200,000 docs, writing into file 4\n",
            "Converted 3,300,000 docs, writing into file 4\n",
            "Converted 3,400,000 docs, writing into file 4\n",
            "Converted 3,500,000 docs, writing into file 4\n",
            "Converted 3,600,000 docs, writing into file 4\n",
            "Converted 3,700,000 docs, writing into file 4\n",
            "Converted 3,800,000 docs, writing into file 4\n",
            "Converted 3,900,000 docs, writing into file 4\n",
            "Converted 4,000,000 docs, writing into file 5\n",
            "Converted 4,100,000 docs, writing into file 5\n",
            "Converted 4,200,000 docs, writing into file 5\n",
            "Converted 4,300,000 docs, writing into file 5\n",
            "Converted 4,400,000 docs, writing into file 5\n",
            "Converted 4,500,000 docs, writing into file 5\n",
            "Converted 4,600,000 docs, writing into file 5\n",
            "Converted 4,700,000 docs, writing into file 5\n",
            "Converted 4,800,000 docs, writing into file 5\n",
            "Converted 4,900,000 docs, writing into file 5\n",
            "Converted 5,000,000 docs, writing into file 6\n",
            "Converted 5,100,000 docs, writing into file 6\n",
            "Converted 5,200,000 docs, writing into file 6\n",
            "Converted 5,300,000 docs, writing into file 6\n",
            "Converted 5,400,000 docs, writing into file 6\n",
            "Converted 5,500,000 docs, writing into file 6\n",
            "Converted 5,600,000 docs, writing into file 6\n",
            "Converted 5,700,000 docs, writing into file 6\n",
            "Converted 5,800,000 docs, writing into file 6\n",
            "Converted 5,900,000 docs, writing into file 6\n",
            "Converted 6,000,000 docs, writing into file 7\n",
            "Converted 6,100,000 docs, writing into file 7\n",
            "Converted 6,200,000 docs, writing into file 7\n",
            "Converted 6,300,000 docs, writing into file 7\n",
            "Converted 6,400,000 docs, writing into file 7\n",
            "Converted 6,500,000 docs, writing into file 7\n",
            "Converted 6,600,000 docs, writing into file 7\n",
            "Converted 6,700,000 docs, writing into file 7\n",
            "Converted 6,800,000 docs, writing into file 7\n",
            "Converted 6,900,000 docs, writing into file 7\n",
            "Converted 7,000,000 docs, writing into file 8\n",
            "Converted 7,100,000 docs, writing into file 8\n",
            "Converted 7,200,000 docs, writing into file 8\n",
            "Converted 7,300,000 docs, writing into file 8\n",
            "Converted 7,400,000 docs, writing into file 8\n",
            "Converted 7,500,000 docs, writing into file 8\n",
            "Converted 7,600,000 docs, writing into file 8\n",
            "Converted 7,700,000 docs, writing into file 8\n",
            "Converted 7,800,000 docs, writing into file 8\n",
            "Converted 7,900,000 docs, writing into file 8\n",
            "Converted 8,000,000 docs, writing into file 9\n",
            "Converted 8,100,000 docs, writing into file 9\n",
            "Converted 8,200,000 docs, writing into file 9\n",
            "Converted 8,300,000 docs, writing into file 9\n",
            "Converted 8,400,000 docs, writing into file 9\n",
            "Converted 8,500,000 docs, writing into file 9\n",
            "Converted 8,600,000 docs, writing into file 9\n",
            "Converted 8,700,000 docs, writing into file 9\n",
            "Converted 8,800,000 docs, writing into file 9\n",
            "Done!\n"
          ]
        }
      ]
    },
    {
      "cell_type": "markdown",
      "source": [
        "\n",
        "# Step 4: Filter queries based on qrels"
      ],
      "metadata": {
        "id": "5kmx7Dhf2xQu"
      }
    },
    {
      "cell_type": "code",
      "source": [
        "!python tools/scripts/msmarco/filter_queries.py --qrels collections/msmarco-passage/qrels.dev.small.tsv --queries collections/msmarco-passage/queries.dev.tsv --output collections/msmarco-passage/queries.dev.small.tsv\n"
      ],
      "metadata": {
        "id": "f300bcq62537",
        "outputId": "62afb385-441f-47a6-ff0c-a5820cfdcd44",
        "colab": {
          "base_uri": "https://localhost:8080/"
        }
      },
      "execution_count": null,
      "outputs": [
        {
          "output_type": "stream",
          "name": "stdout",
          "text": [
            "Done!\n"
          ]
        }
      ]
    },
    {
      "cell_type": "markdown",
      "source": [
        "# Step 5: Check the contents of the queries file"
      ],
      "metadata": {
        "id": "BfOlsphE28Kg"
      }
    },
    {
      "cell_type": "code",
      "source": [
        "\n",
        "!head collections/msmarco-passage/queries.dev.small.tsv"
      ],
      "metadata": {
        "id": "VVK8uDmG27lY",
        "outputId": "9c2b52d3-a76e-4fe1-a447-61c0717f8ae4",
        "colab": {
          "base_uri": "https://localhost:8080/"
        }
      },
      "execution_count": null,
      "outputs": [
        {
          "output_type": "stream",
          "name": "stdout",
          "text": [
            "1048585\twhat is paula deen's brother\n",
            "2\t Androgen receptor define\n",
            "524332\ttreating tension headaches without medication\n",
            "1048642\twhat is paranoid sc\n",
            "524447\ttreatment of varicose veins in legs\n",
            "786674\twhat is prime rate in canada\n",
            "1048876\twho plays young dr mallard on ncis\n",
            "1048917\twhat is operating system misconfiguration\n",
            "786786\twhat is priority pass\n",
            "524699\ttricare service number\n"
          ]
        }
      ]
    },
    {
      "cell_type": "markdown",
      "source": [
        "# Step 6: Check a few relevance judgments"
      ],
      "metadata": {
        "id": "TiS7oAjE2__i"
      }
    },
    {
      "cell_type": "code",
      "source": [
        "\n",
        "!grep 1048585 collections/msmarco-passage/qrels.dev.small.tsv"
      ],
      "metadata": {
        "id": "I_yqPQ8l3AYG",
        "outputId": "7d1be27f-3264-4e51-ecb8-4024094be509",
        "colab": {
          "base_uri": "https://localhost:8080/"
        }
      },
      "execution_count": null,
      "outputs": [
        {
          "output_type": "stream",
          "name": "stdout",
          "text": [
            "1048585\t0\t7187158\t1\n"
          ]
        }
      ]
    },
    {
      "cell_type": "markdown",
      "source": [
        "# Step 7: Check the corresponding document content"
      ],
      "metadata": {
        "id": "s4CVcP3o3I3Y"
      }
    },
    {
      "cell_type": "code",
      "source": [
        "\n",
        "\n",
        "!grep 7187158 collections/msmarco-passage/collection.tsv"
      ],
      "metadata": {
        "id": "I0ahI9Z23IS0",
        "outputId": "c58c7093-b41d-4c32-ee95-a34abac98788",
        "colab": {
          "base_uri": "https://localhost:8080/"
        }
      },
      "execution_count": null,
      "outputs": [
        {
          "output_type": "stream",
          "name": "stdout",
          "text": [
            "7187158\tPaula Deen and her brother Earl W. Bubba Hiers are being sued by a former general manager at Uncle Bubba'sâ¦ Paula Deen and her brother Earl W. Bubba Hiers are being sued by a former general manager at Uncle Bubba'sâ¦\n"
          ]
        }
      ]
    },
    {
      "cell_type": "markdown",
      "source": [
        "# Step 8: Display the size of the dataset"
      ],
      "metadata": {
        "id": "ri75aw2g3O3P"
      }
    },
    {
      "cell_type": "code",
      "source": [
        "\n",
        "\n",
        "!wc collections/msmarco-passage/qrels.dev.small.tsv\n",
        "!wc collections/msmarco-passage/qrels.train.tsv\n"
      ],
      "metadata": {
        "colab": {
          "base_uri": "https://localhost:8080/"
        },
        "id": "RXaV0m2GhhVG",
        "outputId": "387eee44-a04b-4721-dbac-00500d435b54"
      },
      "execution_count": null,
      "outputs": [
        {
          "output_type": "stream",
          "name": "stdout",
          "text": [
            "  7437  29748 143300 collections/msmarco-passage/qrels.dev.small.tsv\n",
            "  532761  2131044 10589532 collections/msmarco-passage/qrels.train.tsv\n"
          ]
        }
      ]
    }
  ]
}
