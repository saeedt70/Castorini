{
  "nbformat": 4,
  "nbformat_minor": 0,
  "metadata": {
    "colab": {
      "provenance": [],
      "gpuType": "T4"
    },
    "kernelspec": {
      "name": "python3",
      "display_name": "Python 3"
    },
    "language_info": {
      "name": "python"
    },
    "accelerator": "GPU"
  },
  "cells": [
    {
      "cell_type": "markdown",
      "source": [
        "# Install Maven\n",
        "# Clone Anserini repository\n",
        "# Change directory to Anserini\n",
        "# Clean and package Anserini\n"
      ],
      "metadata": {
        "id": "YDvOqeuDONJd"
      }
    },
    {
      "cell_type": "code",
      "execution_count": null,
      "metadata": {
        "id": "deQZ2n550Dmf"
      },
      "outputs": [],
      "source": [
        "!apt-get install maven\n",
        "!git clone https://github.com/castorini/anserini.git\n",
        "%cd anserini\n",
        "!mvn clean package appassembler:assemble\n"
      ]
    },
    {
      "cell_type": "markdown",
      "source": [
        "# Create a directory named \"collections/msmarco-passage\" to store the MS MARCO Passage collection\n",
        "\n",
        "\n",
        "# Download the MS MARCO Passage collection from the official website\n",
        "\n",
        "# Extract the downloaded archive into the \"collections/msmarco-passage\" directory\n"
      ],
      "metadata": {
        "id": "twa6f9qfOe8q"
      }
    },
    {
      "cell_type": "code",
      "source": [
        "!mkdir collections/msmarco-passage\n",
        "!wget https://msmarco.blob.core.windows.net/msmarcoranking/collectionandqueries.tar.gz -P collections/msmarco-passage\n",
        "!tar xvfz collections/msmarco-passage/collectionandqueries.tar.gz -C collections/msmarco-passage\n"
      ],
      "metadata": {
        "id": "zqW92Y7q0NaF"
      },
      "execution_count": null,
      "outputs": []
    },
    {
      "cell_type": "markdown",
      "source": [
        "# Convert MS MARCO Passage collection from TSV to JSONL"
      ],
      "metadata": {
        "id": "6AIhZ32oO0wY"
      }
    },
    {
      "cell_type": "code",
      "source": [
        "\n",
        "\n",
        "\n",
        "!python /content/anserini/anserini-tools/scripts/msmarco/convert_collection_to_jsonl.py \\\n",
        "  --collection-path /content/anserini/collections/msmarco-passage/collection.tsv \\\n",
        "  --output-folder /content/anserini/collections/msmarco-passage/collection_jsonl\n",
        "\n"
      ],
      "metadata": {
        "colab": {
          "base_uri": "https://localhost:8080/"
        },
        "id": "TT1GfCac0bVa",
        "outputId": "544e78c7-09ad-442a-8904-46d3ca7a7242"
      },
      "execution_count": null,
      "outputs": [
        {
          "output_type": "stream",
          "name": "stdout",
          "text": [
            "Converting collection...\n",
            "Converted 0 docs, writing into file 1\n",
            "Converted 100,000 docs, writing into file 1\n",
            "Converted 200,000 docs, writing into file 1\n",
            "Converted 300,000 docs, writing into file 1\n",
            "Converted 400,000 docs, writing into file 1\n",
            "Converted 500,000 docs, writing into file 1\n",
            "Converted 600,000 docs, writing into file 1\n",
            "Converted 700,000 docs, writing into file 1\n",
            "Converted 800,000 docs, writing into file 1\n",
            "Converted 900,000 docs, writing into file 1\n",
            "Converted 1,000,000 docs, writing into file 2\n",
            "Converted 1,100,000 docs, writing into file 2\n",
            "Converted 1,200,000 docs, writing into file 2\n",
            "Converted 1,300,000 docs, writing into file 2\n",
            "Converted 1,400,000 docs, writing into file 2\n",
            "Converted 1,500,000 docs, writing into file 2\n",
            "Converted 1,600,000 docs, writing into file 2\n",
            "Converted 1,700,000 docs, writing into file 2\n",
            "Converted 1,800,000 docs, writing into file 2\n",
            "Converted 1,900,000 docs, writing into file 2\n",
            "Converted 2,000,000 docs, writing into file 3\n",
            "Converted 2,100,000 docs, writing into file 3\n",
            "Converted 2,200,000 docs, writing into file 3\n",
            "Converted 2,300,000 docs, writing into file 3\n",
            "Converted 2,400,000 docs, writing into file 3\n",
            "Converted 2,500,000 docs, writing into file 3\n",
            "Converted 2,600,000 docs, writing into file 3\n",
            "Converted 2,700,000 docs, writing into file 3\n",
            "Converted 2,800,000 docs, writing into file 3\n",
            "Converted 2,900,000 docs, writing into file 3\n",
            "Converted 3,000,000 docs, writing into file 4\n",
            "Converted 3,100,000 docs, writing into file 4\n",
            "Converted 3,200,000 docs, writing into file 4\n",
            "Converted 3,300,000 docs, writing into file 4\n",
            "Converted 3,400,000 docs, writing into file 4\n",
            "Converted 3,500,000 docs, writing into file 4\n",
            "Converted 3,600,000 docs, writing into file 4\n",
            "Converted 3,700,000 docs, writing into file 4\n",
            "Converted 3,800,000 docs, writing into file 4\n",
            "Converted 3,900,000 docs, writing into file 4\n",
            "Converted 4,000,000 docs, writing into file 5\n",
            "Converted 4,100,000 docs, writing into file 5\n",
            "Converted 4,200,000 docs, writing into file 5\n",
            "Converted 4,300,000 docs, writing into file 5\n",
            "Converted 4,400,000 docs, writing into file 5\n",
            "Converted 4,500,000 docs, writing into file 5\n",
            "Converted 4,600,000 docs, writing into file 5\n",
            "Converted 4,700,000 docs, writing into file 5\n",
            "Converted 4,800,000 docs, writing into file 5\n",
            "Converted 4,900,000 docs, writing into file 5\n",
            "Converted 5,000,000 docs, writing into file 6\n",
            "Converted 5,100,000 docs, writing into file 6\n",
            "Converted 5,200,000 docs, writing into file 6\n",
            "Converted 5,300,000 docs, writing into file 6\n",
            "Converted 5,400,000 docs, writing into file 6\n",
            "Converted 5,500,000 docs, writing into file 6\n",
            "Converted 5,600,000 docs, writing into file 6\n",
            "Converted 5,700,000 docs, writing into file 6\n",
            "Converted 5,800,000 docs, writing into file 6\n",
            "Converted 5,900,000 docs, writing into file 6\n",
            "Converted 6,000,000 docs, writing into file 7\n",
            "Converted 6,100,000 docs, writing into file 7\n",
            "Converted 6,200,000 docs, writing into file 7\n",
            "Converted 6,300,000 docs, writing into file 7\n",
            "Converted 6,400,000 docs, writing into file 7\n",
            "Converted 6,500,000 docs, writing into file 7\n",
            "Converted 6,600,000 docs, writing into file 7\n",
            "Converted 6,700,000 docs, writing into file 7\n",
            "Converted 6,800,000 docs, writing into file 7\n",
            "Converted 6,900,000 docs, writing into file 7\n",
            "Converted 7,000,000 docs, writing into file 8\n",
            "Converted 7,100,000 docs, writing into file 8\n",
            "Converted 7,200,000 docs, writing into file 8\n",
            "Converted 7,300,000 docs, writing into file 8\n",
            "Converted 7,400,000 docs, writing into file 8\n",
            "Converted 7,500,000 docs, writing into file 8\n",
            "Converted 7,600,000 docs, writing into file 8\n",
            "Converted 7,700,000 docs, writing into file 8\n",
            "Converted 7,800,000 docs, writing into file 8\n",
            "Converted 7,900,000 docs, writing into file 8\n",
            "Converted 8,000,000 docs, writing into file 9\n",
            "Converted 8,100,000 docs, writing into file 9\n",
            "Converted 8,200,000 docs, writing into file 9\n",
            "Converted 8,300,000 docs, writing into file 9\n",
            "Converted 8,400,000 docs, writing into file 9\n",
            "Converted 8,500,000 docs, writing into file 9\n",
            "Converted 8,600,000 docs, writing into file 9\n",
            "Converted 8,700,000 docs, writing into file 9\n",
            "Converted 8,800,000 docs, writing into file 9\n",
            "Done!\n"
          ]
        }
      ]
    },
    {
      "cell_type": "markdown",
      "source": [
        "# Filter the MS MARCO Passage development set queries to a small subset"
      ],
      "metadata": {
        "id": "kW3aKIYuPDFn"
      }
    },
    {
      "cell_type": "code",
      "source": [
        "!python /content/anserini/anserini-tools/scripts/msmarco/filter_queries.py \\\n",
        "  --qrels collections/msmarco-passage/qrels.dev.small.tsv \\\n",
        "  --queries collections/msmarco-passage/queries.dev.tsv \\\n",
        "  --output collections/msmarco-passage/queries.dev.small.tsv\n"
      ],
      "metadata": {
        "colab": {
          "base_uri": "https://localhost:8080/"
        },
        "id": "OgqH-Pnt3FGV",
        "outputId": "a99fd35a-5dc8-45d9-d647-3d93a78e3eae"
      },
      "execution_count": null,
      "outputs": [
        {
          "output_type": "stream",
          "name": "stdout",
          "text": [
            "Done!\n"
          ]
        }
      ]
    },
    {
      "cell_type": "markdown",
      "source": [
        "# Index the MS MARCO Passage collection into a Lucene index using the Anserini tool"
      ],
      "metadata": {
        "id": "DjNL1dspPfOe"
      }
    },
    {
      "cell_type": "code",
      "source": [
        "!target/appassembler/bin/IndexCollection \\\n",
        "  -collection JsonCollection \\\n",
        "  -input /content/anserini/collections/msmarco-passage/collection_jsonl \\\n",
        "  -index indexes/msmarco-passage/lucene-index-msmarco \\\n",
        "  -generator DefaultLuceneDocumentGenerator \\\n",
        "  -threads 2 -storePositions -storeDocvectors -storeRaw\n"
      ],
      "metadata": {
        "colab": {
          "base_uri": "https://localhost:8080/"
        },
        "id": "HpSR-Ayd3ImU",
        "outputId": "7dc56267-69bd-464a-d48a-0c9099154838"
      },
      "execution_count": null,
      "outputs": [
        {
          "output_type": "stream",
          "name": "stdout",
          "text": [
            "2024-01-31 10:33:42,115 INFO  [main] index.AbstractIndexer (AbstractIndexer.java:204) - Setting log level to INFO\n",
            "2024-01-31 10:33:42,118 INFO  [main] index.AbstractIndexer (AbstractIndexer.java:207) - ============ Loading Index Configuration ============\n",
            "2024-01-31 10:33:42,118 INFO  [main] index.AbstractIndexer (AbstractIndexer.java:208) - AbstractIndexer settings:\n",
            "2024-01-31 10:33:42,119 INFO  [main] index.AbstractIndexer (AbstractIndexer.java:209) -  + DocumentCollection path: /content/anserini/collections/msmarco-passage/collection_jsonl\n",
            "2024-01-31 10:33:42,121 INFO  [main] index.AbstractIndexer (AbstractIndexer.java:210) -  + CollectionClass: JsonCollection\n",
            "2024-01-31 10:33:42,122 INFO  [main] index.AbstractIndexer (AbstractIndexer.java:211) -  + Index path: indexes/msmarco-passage/lucene-index-msmarco\n",
            "2024-01-31 10:33:42,123 INFO  [main] index.AbstractIndexer (AbstractIndexer.java:212) -  + Threads: 2\n",
            "2024-01-31 10:33:42,124 INFO  [main] index.AbstractIndexer (AbstractIndexer.java:213) -  + Optimize (merge segments)? false\n",
            "2024-01-31 10:33:42,178 INFO  [main] index.IndexCollection (IndexCollection.java:246) - Using DefaultEnglishAnalyzer\n",
            "2024-01-31 10:33:42,179 INFO  [main] index.IndexCollection (IndexCollection.java:247) - Stemmer: porter\n",
            "2024-01-31 10:33:42,179 INFO  [main] index.IndexCollection (IndexCollection.java:248) - Keep stopwords? false\n",
            "2024-01-31 10:33:42,180 INFO  [main] index.IndexCollection (IndexCollection.java:249) - Stopwords file: null\n",
            "2024-01-31 10:33:42,437 INFO  [main] index.IndexCollection (IndexCollection.java:197) - IndexCollection settings:\n",
            "2024-01-31 10:33:42,445 INFO  [main] index.IndexCollection (IndexCollection.java:198) -  + Generator: DefaultLuceneDocumentGenerator\n",
            "2024-01-31 10:33:42,446 INFO  [main] index.IndexCollection (IndexCollection.java:199) -  + Language: en\n",
            "2024-01-31 10:33:42,447 INFO  [main] index.IndexCollection (IndexCollection.java:200) -  + Stemmer: porter\n",
            "2024-01-31 10:33:42,450 INFO  [main] index.IndexCollection (IndexCollection.java:201) -  + Keep stopwords? false\n",
            "2024-01-31 10:33:42,451 INFO  [main] index.IndexCollection (IndexCollection.java:202) -  + Stopwords: null\n",
            "2024-01-31 10:33:42,452 INFO  [main] index.IndexCollection (IndexCollection.java:203) -  + Store positions? true\n",
            "2024-01-31 10:33:42,452 INFO  [main] index.IndexCollection (IndexCollection.java:204) -  + Store docvectors? true\n",
            "2024-01-31 10:33:42,455 INFO  [main] index.IndexCollection (IndexCollection.java:205) -  + Store document \"contents\" field? false\n",
            "2024-01-31 10:33:42,455 INFO  [main] index.IndexCollection (IndexCollection.java:206) -  + Store document \"raw\" field? true\n",
            "2024-01-31 10:33:42,458 INFO  [main] index.IndexCollection (IndexCollection.java:207) -  + Additional fields to index: []\n",
            "2024-01-31 10:33:42,459 INFO  [main] index.IndexCollection (IndexCollection.java:208) -  + Whitelist: null\n",
            "2024-01-31 10:33:42,459 INFO  [main] index.IndexCollection (IndexCollection.java:209) -  + Pretokenized?: false\n",
            "2024-01-31 10:33:42,460 INFO  [main] index.IndexCollection (IndexCollection.java:210) -  + Codec: Lucene99\n",
            "2024-01-31 10:33:42,461 INFO  [main] index.AbstractIndexer (AbstractIndexer.java:237) - ============ Indexing Collection ============\n",
            "2024-01-31 10:33:42,466 INFO  [main] index.AbstractIndexer (AbstractIndexer.java:246) - Thread pool with 2 threads initialized.\n",
            "2024-01-31 10:33:42,468 INFO  [main] index.AbstractIndexer (AbstractIndexer.java:247) - 9 files found in /content/anserini/collections/msmarco-passage/collection_jsonl\n",
            "2024-01-31 10:33:42,468 INFO  [main] index.AbstractIndexer (AbstractIndexer.java:248) - Starting to index...\n",
            "2024-01-31 10:34:42,479 INFO  [main] index.AbstractIndexer (AbstractIndexer.java:260) - 0.00% of files completed, 900,000 documents indexed\n",
            "2024-01-31 10:35:42,480 INFO  [main] index.AbstractIndexer (AbstractIndexer.java:260) - 0.00% of files completed, 1,920,000 documents indexed\n",
            "2024-01-31 10:36:42,484 INFO  [main] index.AbstractIndexer (AbstractIndexer.java:260) - 22.22% of files completed, 2,960,000 documents indexed\n",
            "2024-01-31 10:37:42,485 INFO  [main] index.AbstractIndexer (AbstractIndexer.java:260) - 33.33% of files completed, 3,961,823 documents indexed\n",
            "2024-01-31 10:38:42,486 INFO  [main] index.AbstractIndexer (AbstractIndexer.java:260) - 44.44% of files completed, 4,991,823 documents indexed\n",
            "2024-01-31 10:39:42,488 INFO  [main] index.AbstractIndexer (AbstractIndexer.java:260) - 55.56% of files completed, 6,011,823 documents indexed\n",
            "2024-01-31 10:40:42,490 INFO  [main] index.AbstractIndexer (AbstractIndexer.java:260) - 66.67% of files completed, 6,981,823 documents indexed\n",
            "2024-01-31 10:41:42,491 INFO  [main] index.AbstractIndexer (AbstractIndexer.java:260) - 77.78% of files completed, 8,001,823 documents indexed\n",
            "2024-01-31 10:42:42,492 INFO  [main] index.AbstractIndexer (AbstractIndexer.java:260) - 88.89% of files completed, 8,811,823 documents indexed\n",
            "2024-01-31 10:43:42,260 INFO  [main] index.AbstractIndexer (AbstractIndexer.java:306) - Indexing Complete! 8,841,823 documents indexed\n",
            "2024-01-31 10:43:42,260 INFO  [main] index.AbstractIndexer (AbstractIndexer.java:307) - ============ Final Counter Values ============\n",
            "2024-01-31 10:43:42,261 INFO  [main] index.AbstractIndexer (AbstractIndexer.java:308) - indexed:        8,841,823\n",
            "2024-01-31 10:43:42,261 INFO  [main] index.AbstractIndexer (AbstractIndexer.java:309) - unindexable:            0\n",
            "2024-01-31 10:43:42,262 INFO  [main] index.AbstractIndexer (AbstractIndexer.java:310) - empty:                  0\n",
            "2024-01-31 10:43:42,262 INFO  [main] index.AbstractIndexer (AbstractIndexer.java:311) - skipped:                0\n",
            "2024-01-31 10:43:42,262 INFO  [main] index.AbstractIndexer (AbstractIndexer.java:312) - errors:                 0\n",
            "2024-01-31 10:43:42,272 INFO  [main] index.AbstractIndexer (AbstractIndexer.java:315) - Total 8,841,823 documents indexed in 00:09:59\n"
          ]
        }
      ]
    },
    {
      "cell_type": "markdown",
      "source": [
        "# Search the MS MARCO Passage collection using the Anserini tool with BM25 retrieval model"
      ],
      "metadata": {
        "id": "biUQQLy4QGUB"
      }
    },
    {
      "cell_type": "code",
      "source": [
        "!target/appassembler/bin/SearchCollection \\\n",
        "  -index indexes/msmarco-passage/lucene-index-msmarco \\\n",
        "  -topics collections/msmarco-passage/queries.dev.small.tsv \\\n",
        "  -topicReader TsvInt \\\n",
        "  -output runs/run.msmarco-passage.dev.small.tsv -format msmarco \\\n",
        "  -parallelism 2 \\\n",
        "  -bm25 -bm25.k1 0.82 -bm25.b 0.68 -hits 1000\n"
      ],
      "metadata": {
        "colab": {
          "base_uri": "https://localhost:8080/"
        },
        "id": "oukKG7Ur3MeB",
        "outputId": "e2c96cbc-d4a6-474c-d421-918cf8df1319"
      },
      "execution_count": null,
      "outputs": [
        {
          "output_type": "stream",
          "name": "stdout",
          "text": [
            "2024-01-31 10:43:54,783 INFO  [main] search.SearchCollection (SearchCollection.java:990) - ============ Initializing Searcher ============\n",
            "2024-01-31 10:43:54,787 INFO  [main] search.SearchCollection (SearchCollection.java:991) - Index: indexes/msmarco-passage/lucene-index-msmarco\n",
            "2024-01-31 10:43:55,151 INFO  [main] search.SearchCollection (SearchCollection.java:994) - Fields: []\n",
            "2024-01-31 10:43:55,155 INFO  [main] search.SearchCollection (SearchCollection.java:1304) - Using DefaultEnglishAnalyzer\n",
            "2024-01-31 10:43:55,156 INFO  [main] search.SearchCollection (SearchCollection.java:1305) - Stemmer: porter\n",
            "2024-01-31 10:43:55,159 INFO  [main] search.SearchCollection (SearchCollection.java:1306) - Keep stopwords? false\n",
            "2024-01-31 10:43:55,161 INFO  [main] search.SearchCollection (SearchCollection.java:1307) - Stopwords file: null\n",
            "2024-01-31 10:43:55,317 INFO  [main] search.SearchCollection (SearchCollection.java:1317) - ============ Launching Search Threads ============\n",
            "2024-01-31 10:43:55,318 INFO  [main] search.SearchCollection (SearchCollection.java:1318) - runtag: Anserini\n",
            "2024-01-31 10:44:11,216 INFO  [pool-3-thread-3] search.SearchCollection$SearcherThread (SearchCollection.java:893) - ranker: bm25(k1=0.82,b=0.68), reranker: default: 100 queries processed\n",
            "2024-01-31 10:44:18,021 INFO  [pool-3-thread-3] search.SearchCollection$SearcherThread (SearchCollection.java:893) - ranker: bm25(k1=0.82,b=0.68), reranker: default: 200 queries processed\n",
            "2024-01-31 10:44:24,377 INFO  [pool-3-thread-1] search.SearchCollection$SearcherThread (SearchCollection.java:893) - ranker: bm25(k1=0.82,b=0.68), reranker: default: 300 queries processed\n",
            "2024-01-31 10:44:29,120 INFO  [pool-3-thread-4] search.SearchCollection$SearcherThread (SearchCollection.java:893) - ranker: bm25(k1=0.82,b=0.68), reranker: default: 400 queries processed\n",
            "2024-01-31 10:44:33,908 INFO  [pool-3-thread-2] search.SearchCollection$SearcherThread (SearchCollection.java:893) - ranker: bm25(k1=0.82,b=0.68), reranker: default: 500 queries processed\n",
            "2024-01-31 10:44:39,620 INFO  [pool-3-thread-2] search.SearchCollection$SearcherThread (SearchCollection.java:893) - ranker: bm25(k1=0.82,b=0.68), reranker: default: 600 queries processed\n",
            "2024-01-31 10:44:45,452 INFO  [pool-3-thread-1] search.SearchCollection$SearcherThread (SearchCollection.java:893) - ranker: bm25(k1=0.82,b=0.68), reranker: default: 700 queries processed\n",
            "2024-01-31 10:44:51,080 INFO  [pool-3-thread-3] search.SearchCollection$SearcherThread (SearchCollection.java:893) - ranker: bm25(k1=0.82,b=0.68), reranker: default: 800 queries processed\n",
            "2024-01-31 10:44:56,235 INFO  [pool-3-thread-4] search.SearchCollection$SearcherThread (SearchCollection.java:893) - ranker: bm25(k1=0.82,b=0.68), reranker: default: 900 queries processed\n",
            "2024-01-31 10:45:03,409 INFO  [pool-3-thread-3] search.SearchCollection$SearcherThread (SearchCollection.java:893) - ranker: bm25(k1=0.82,b=0.68), reranker: default: 1000 queries processed\n",
            "2024-01-31 10:45:09,996 INFO  [pool-3-thread-4] search.SearchCollection$SearcherThread (SearchCollection.java:893) - ranker: bm25(k1=0.82,b=0.68), reranker: default: 1100 queries processed\n",
            "2024-01-31 10:45:18,181 INFO  [pool-3-thread-4] search.SearchCollection$SearcherThread (SearchCollection.java:893) - ranker: bm25(k1=0.82,b=0.68), reranker: default: 1200 queries processed\n",
            "2024-01-31 10:45:25,138 INFO  [pool-3-thread-1] search.SearchCollection$SearcherThread (SearchCollection.java:893) - ranker: bm25(k1=0.82,b=0.68), reranker: default: 1300 queries processed\n",
            "2024-01-31 10:45:30,744 INFO  [pool-3-thread-3] search.SearchCollection$SearcherThread (SearchCollection.java:893) - ranker: bm25(k1=0.82,b=0.68), reranker: default: 1400 queries processed\n",
            "2024-01-31 10:45:35,243 INFO  [pool-3-thread-4] search.SearchCollection$SearcherThread (SearchCollection.java:893) - ranker: bm25(k1=0.82,b=0.68), reranker: default: 1500 queries processed\n",
            "2024-01-31 10:45:40,285 INFO  [pool-3-thread-3] search.SearchCollection$SearcherThread (SearchCollection.java:893) - ranker: bm25(k1=0.82,b=0.68), reranker: default: 1600 queries processed\n",
            "2024-01-31 10:45:44,776 INFO  [pool-3-thread-3] search.SearchCollection$SearcherThread (SearchCollection.java:893) - ranker: bm25(k1=0.82,b=0.68), reranker: default: 1700 queries processed\n",
            "2024-01-31 10:45:49,266 INFO  [pool-3-thread-2] search.SearchCollection$SearcherThread (SearchCollection.java:893) - ranker: bm25(k1=0.82,b=0.68), reranker: default: 1800 queries processed\n",
            "2024-01-31 10:45:55,157 INFO  [pool-3-thread-1] search.SearchCollection$SearcherThread (SearchCollection.java:893) - ranker: bm25(k1=0.82,b=0.68), reranker: default: 1900 queries processed\n",
            "2024-01-31 10:45:59,607 INFO  [pool-3-thread-1] search.SearchCollection$SearcherThread (SearchCollection.java:893) - ranker: bm25(k1=0.82,b=0.68), reranker: default: 2000 queries processed\n",
            "2024-01-31 10:46:04,699 INFO  [pool-3-thread-3] search.SearchCollection$SearcherThread (SearchCollection.java:893) - ranker: bm25(k1=0.82,b=0.68), reranker: default: 2100 queries processed\n",
            "2024-01-31 10:46:09,658 INFO  [pool-3-thread-4] search.SearchCollection$SearcherThread (SearchCollection.java:893) - ranker: bm25(k1=0.82,b=0.68), reranker: default: 2200 queries processed\n",
            "2024-01-31 10:46:16,466 INFO  [pool-3-thread-2] search.SearchCollection$SearcherThread (SearchCollection.java:893) - ranker: bm25(k1=0.82,b=0.68), reranker: default: 2300 queries processed\n",
            "2024-01-31 10:46:21,697 INFO  [pool-3-thread-3] search.SearchCollection$SearcherThread (SearchCollection.java:893) - ranker: bm25(k1=0.82,b=0.68), reranker: default: 2400 queries processed\n",
            "2024-01-31 10:46:28,072 INFO  [pool-3-thread-3] search.SearchCollection$SearcherThread (SearchCollection.java:893) - ranker: bm25(k1=0.82,b=0.68), reranker: default: 2500 queries processed\n",
            "2024-01-31 10:46:35,016 INFO  [pool-3-thread-3] search.SearchCollection$SearcherThread (SearchCollection.java:893) - ranker: bm25(k1=0.82,b=0.68), reranker: default: 2600 queries processed\n",
            "2024-01-31 10:46:40,064 INFO  [pool-3-thread-4] search.SearchCollection$SearcherThread (SearchCollection.java:893) - ranker: bm25(k1=0.82,b=0.68), reranker: default: 2700 queries processed\n",
            "2024-01-31 10:46:45,686 INFO  [pool-3-thread-2] search.SearchCollection$SearcherThread (SearchCollection.java:893) - ranker: bm25(k1=0.82,b=0.68), reranker: default: 2800 queries processed\n",
            "2024-01-31 10:46:50,256 INFO  [pool-3-thread-3] search.SearchCollection$SearcherThread (SearchCollection.java:893) - ranker: bm25(k1=0.82,b=0.68), reranker: default: 2900 queries processed\n",
            "2024-01-31 10:46:55,791 INFO  [pool-3-thread-4] search.SearchCollection$SearcherThread (SearchCollection.java:893) - ranker: bm25(k1=0.82,b=0.68), reranker: default: 3000 queries processed\n",
            "2024-01-31 10:47:00,393 INFO  [pool-3-thread-2] search.SearchCollection$SearcherThread (SearchCollection.java:893) - ranker: bm25(k1=0.82,b=0.68), reranker: default: 3100 queries processed\n",
            "2024-01-31 10:47:05,421 INFO  [pool-3-thread-2] search.SearchCollection$SearcherThread (SearchCollection.java:893) - ranker: bm25(k1=0.82,b=0.68), reranker: default: 3200 queries processed\n",
            "2024-01-31 10:47:11,522 INFO  [pool-3-thread-2] search.SearchCollection$SearcherThread (SearchCollection.java:893) - ranker: bm25(k1=0.82,b=0.68), reranker: default: 3300 queries processed\n",
            "2024-01-31 10:47:35,500 INFO  [pool-3-thread-4] search.SearchCollection$SearcherThread (SearchCollection.java:893) - ranker: bm25(k1=0.82,b=0.68), reranker: default: 3400 queries processed\n",
            "2024-01-31 10:48:10,288 INFO  [pool-3-thread-1] search.SearchCollection$SearcherThread (SearchCollection.java:893) - ranker: bm25(k1=0.82,b=0.68), reranker: default: 3500 queries processed\n",
            "2024-01-31 10:48:48,335 INFO  [pool-3-thread-2] search.SearchCollection$SearcherThread (SearchCollection.java:893) - ranker: bm25(k1=0.82,b=0.68), reranker: default: 3600 queries processed\n",
            "2024-01-31 10:49:26,818 INFO  [pool-3-thread-1] search.SearchCollection$SearcherThread (SearchCollection.java:893) - ranker: bm25(k1=0.82,b=0.68), reranker: default: 3700 queries processed\n",
            "2024-01-31 10:50:03,379 INFO  [pool-3-thread-3] search.SearchCollection$SearcherThread (SearchCollection.java:893) - ranker: bm25(k1=0.82,b=0.68), reranker: default: 3800 queries processed\n",
            "2024-01-31 10:50:39,609 INFO  [pool-3-thread-3] search.SearchCollection$SearcherThread (SearchCollection.java:893) - ranker: bm25(k1=0.82,b=0.68), reranker: default: 3900 queries processed\n",
            "2024-01-31 10:51:15,802 INFO  [pool-3-thread-3] search.SearchCollection$SearcherThread (SearchCollection.java:893) - ranker: bm25(k1=0.82,b=0.68), reranker: default: 4000 queries processed\n",
            "2024-01-31 10:51:50,085 INFO  [pool-3-thread-3] search.SearchCollection$SearcherThread (SearchCollection.java:893) - ranker: bm25(k1=0.82,b=0.68), reranker: default: 4100 queries processed\n",
            "2024-01-31 10:52:24,557 INFO  [pool-3-thread-3] search.SearchCollection$SearcherThread (SearchCollection.java:893) - ranker: bm25(k1=0.82,b=0.68), reranker: default: 4200 queries processed\n",
            "2024-01-31 10:53:05,946 INFO  [pool-3-thread-4] search.SearchCollection$SearcherThread (SearchCollection.java:893) - ranker: bm25(k1=0.82,b=0.68), reranker: default: 4300 queries processed\n",
            "2024-01-31 10:53:40,195 INFO  [pool-3-thread-3] search.SearchCollection$SearcherThread (SearchCollection.java:893) - ranker: bm25(k1=0.82,b=0.68), reranker: default: 4400 queries processed\n",
            "2024-01-31 10:54:18,513 INFO  [pool-3-thread-2] search.SearchCollection$SearcherThread (SearchCollection.java:893) - ranker: bm25(k1=0.82,b=0.68), reranker: default: 4500 queries processed\n",
            "2024-01-31 10:54:59,639 INFO  [pool-3-thread-4] search.SearchCollection$SearcherThread (SearchCollection.java:893) - ranker: bm25(k1=0.82,b=0.68), reranker: default: 4600 queries processed\n",
            "2024-01-31 10:55:42,678 INFO  [pool-3-thread-4] search.SearchCollection$SearcherThread (SearchCollection.java:893) - ranker: bm25(k1=0.82,b=0.68), reranker: default: 4700 queries processed\n",
            "2024-01-31 10:56:22,693 INFO  [pool-3-thread-4] search.SearchCollection$SearcherThread (SearchCollection.java:893) - ranker: bm25(k1=0.82,b=0.68), reranker: default: 4800 queries processed\n",
            "2024-01-31 10:56:59,236 INFO  [pool-3-thread-3] search.SearchCollection$SearcherThread (SearchCollection.java:893) - ranker: bm25(k1=0.82,b=0.68), reranker: default: 4900 queries processed\n",
            "2024-01-31 10:57:35,474 INFO  [pool-3-thread-3] search.SearchCollection$SearcherThread (SearchCollection.java:893) - ranker: bm25(k1=0.82,b=0.68), reranker: default: 5000 queries processed\n",
            "2024-01-31 10:58:12,205 INFO  [pool-3-thread-4] search.SearchCollection$SearcherThread (SearchCollection.java:893) - ranker: bm25(k1=0.82,b=0.68), reranker: default: 5100 queries processed\n",
            "2024-01-31 10:58:46,600 INFO  [pool-3-thread-4] search.SearchCollection$SearcherThread (SearchCollection.java:893) - ranker: bm25(k1=0.82,b=0.68), reranker: default: 5200 queries processed\n",
            "2024-01-31 10:59:24,044 INFO  [pool-3-thread-3] search.SearchCollection$SearcherThread (SearchCollection.java:893) - ranker: bm25(k1=0.82,b=0.68), reranker: default: 5300 queries processed\n",
            "2024-01-31 11:00:04,295 INFO  [pool-3-thread-1] search.SearchCollection$SearcherThread (SearchCollection.java:893) - ranker: bm25(k1=0.82,b=0.68), reranker: default: 5400 queries processed\n",
            "2024-01-31 11:00:42,756 INFO  [pool-3-thread-2] search.SearchCollection$SearcherThread (SearchCollection.java:893) - ranker: bm25(k1=0.82,b=0.68), reranker: default: 5500 queries processed\n",
            "2024-01-31 11:01:20,597 INFO  [pool-3-thread-2] search.SearchCollection$SearcherThread (SearchCollection.java:893) - ranker: bm25(k1=0.82,b=0.68), reranker: default: 5600 queries processed\n",
            "2024-01-31 11:01:43,514 INFO  [pool-3-thread-4] search.SearchCollection$SearcherThread (SearchCollection.java:893) - ranker: bm25(k1=0.82,b=0.68), reranker: default: 5700 queries processed\n",
            "2024-01-31 11:02:23,260 INFO  [pool-3-thread-4] search.SearchCollection$SearcherThread (SearchCollection.java:893) - ranker: bm25(k1=0.82,b=0.68), reranker: default: 5800 queries processed\n",
            "2024-01-31 11:03:08,154 INFO  [pool-3-thread-3] search.SearchCollection$SearcherThread (SearchCollection.java:893) - ranker: bm25(k1=0.82,b=0.68), reranker: default: 5900 queries processed\n",
            "2024-01-31 11:03:42,933 INFO  [pool-3-thread-3] search.SearchCollection$SearcherThread (SearchCollection.java:893) - ranker: bm25(k1=0.82,b=0.68), reranker: default: 6000 queries processed\n",
            "2024-01-31 11:04:23,211 INFO  [pool-3-thread-3] search.SearchCollection$SearcherThread (SearchCollection.java:893) - ranker: bm25(k1=0.82,b=0.68), reranker: default: 6100 queries processed\n",
            "2024-01-31 11:04:59,296 INFO  [pool-3-thread-3] search.SearchCollection$SearcherThread (SearchCollection.java:893) - ranker: bm25(k1=0.82,b=0.68), reranker: default: 6200 queries processed\n",
            "2024-01-31 11:05:35,311 INFO  [pool-3-thread-1] search.SearchCollection$SearcherThread (SearchCollection.java:893) - ranker: bm25(k1=0.82,b=0.68), reranker: default: 6300 queries processed\n",
            "2024-01-31 11:06:13,643 INFO  [pool-3-thread-3] search.SearchCollection$SearcherThread (SearchCollection.java:893) - ranker: bm25(k1=0.82,b=0.68), reranker: default: 6400 queries processed\n",
            "2024-01-31 11:06:57,027 INFO  [pool-3-thread-1] search.SearchCollection$SearcherThread (SearchCollection.java:893) - ranker: bm25(k1=0.82,b=0.68), reranker: default: 6500 queries processed\n",
            "2024-01-31 11:07:31,054 INFO  [pool-3-thread-3] search.SearchCollection$SearcherThread (SearchCollection.java:893) - ranker: bm25(k1=0.82,b=0.68), reranker: default: 6600 queries processed\n",
            "2024-01-31 11:08:08,626 INFO  [pool-3-thread-4] search.SearchCollection$SearcherThread (SearchCollection.java:893) - ranker: bm25(k1=0.82,b=0.68), reranker: default: 6700 queries processed\n",
            "2024-01-31 11:08:46,656 INFO  [pool-3-thread-1] search.SearchCollection$SearcherThread (SearchCollection.java:893) - ranker: bm25(k1=0.82,b=0.68), reranker: default: 6800 queries processed\n",
            "2024-01-31 11:09:23,553 INFO  [pool-3-thread-3] search.SearchCollection$SearcherThread (SearchCollection.java:893) - ranker: bm25(k1=0.82,b=0.68), reranker: default: 6900 queries processed\n",
            "2024-01-31 11:09:58,176 INFO  [pool-2-thread-1] search.SearchCollection$SearcherThread (SearchCollection.java:914) - ranker: bm25(k1=0.82,b=0.68), reranker: default: 6980 queries processed in 00:26:02 = ~4.47 q/s\n",
            "2024-01-31 11:10:12,982 INFO  [main] search.SearchCollection (SearchCollection.java:1390) - Total run time: 00:26:18\n"
          ]
        }
      ]
    },
    {
      "cell_type": "code",
      "source": [
        "!head runs/run.msmarco-passage.dev.small.tsv\n"
      ],
      "metadata": {
        "id": "Zgt5Pm3MXADV",
        "outputId": "1aa7d142-f048-46aa-87bb-57b686b6cde4",
        "colab": {
          "base_uri": "https://localhost:8080/"
        }
      },
      "execution_count": null,
      "outputs": [
        {
          "output_type": "stream",
          "name": "stdout",
          "text": [
            "1048585\t7187158\t1\n",
            "1048585\t7187157\t2\n",
            "1048585\t7187163\t3\n",
            "1048585\t7546327\t4\n",
            "1048585\t7187160\t5\n",
            "1048585\t8227279\t6\n",
            "1048585\t7617404\t7\n",
            "1048585\t7187156\t8\n",
            "1048585\t2298838\t9\n",
            "1048585\t7187155\t10\n"
          ]
        }
      ]
    },
    {
      "cell_type": "markdown",
      "source": [
        "# Evaluate the BM25 retrieval model on the MS MARCO Passage development subset"
      ],
      "metadata": {
        "id": "4szys9i6QUdS"
      }
    },
    {
      "cell_type": "code",
      "source": [
        "!python /content/anserini/anserini-tools/scripts/msmarco/msmarco_passage_eval.py \\\n",
        " /content/anserini/collections/msmarco-passage/queries.dev.small.tsv runs/run.msmarco-passage.dev.small.tsv"
      ],
      "metadata": {
        "colab": {
          "base_uri": "https://localhost:8080/"
        },
        "id": "YzCQEGXO3PlI",
        "outputId": "e4949f39-14c2-4d88-d1c2-69655d0b34c0"
      },
      "execution_count": null,
      "outputs": [
        {
          "output_type": "stream",
          "name": "stdout",
          "text": [
            "#####################\n",
            "MRR @10: 0.0\n",
            "QueriesRanked: 6980\n",
            "#####################\n"
          ]
        }
      ]
    }
  ]
}